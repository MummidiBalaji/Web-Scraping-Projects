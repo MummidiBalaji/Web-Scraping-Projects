{
 "cells": [
  {
   "cell_type": "markdown",
   "id": "6e3b1b4d",
   "metadata": {},
   "source": [
    "## Data Description"
   ]
  },
  {
   "cell_type": "markdown",
   "id": "581eac4f",
   "metadata": {},
   "source": [
    "* The dataset contains the employment outcomes of engineering graduates.\n",
    "* Salary, Job Titles, and Job Locations are the dependant variables.\n",
    "* The standardized scores are from following areas:\n",
    "    1. Cognitive skills\n",
    "    2. Technical skills\n",
    "    3. Personality skills\n",
    "* The dataset also contains demographic features.\n",
    "* There are 3998 rows and 39 columns in the dataset"
   ]
  },
  {
   "cell_type": "markdown",
   "id": "ac11c10a",
   "metadata": {},
   "source": [
    "#### Importing Necessary Libraries"
   ]
  },
  {
   "cell_type": "code",
   "execution_count": 1,
   "id": "6da8bf33",
   "metadata": {},
   "outputs": [],
   "source": [
    "import pandas as pd\n",
    "import numpy as np\n",
    "\n",
    "import statistics\n",
    "from statistics import*\n",
    "\n",
    "import datetime\n",
    "\n",
    "\n",
    "import warnings\n",
    "warnings.filterwarnings('ignore')\n",
    "\n",
    "import plotly.express as px\n",
    "import plotly.figure_factory as ff\n",
    "from plotly.figure_factory import*\n",
    "\n",
    "import chart_studio\n",
    "import chart_studio.plotly as py\n",
    "\n",
    "import seaborn as sns\n",
    "import matplotlib.pyplot as plt\n",
    "%matplotlib inline"
   ]
  },
  {
   "cell_type": "code",
   "execution_count": 2,
   "id": "7762b2ba",
   "metadata": {},
   "outputs": [
    {
     "name": "stdout",
     "output_type": "stream",
     "text": [
      "Requirement already satisfied: kaleido in c:\\users\\mummidi\\anaconda3\\lib\\site-packages (0.2.1)\n",
      "Note: you may need to restart the kernel to use updated packages.\n"
     ]
    }
   ],
   "source": [
    "pip install -U kaleido"
   ]
  },
  {
   "cell_type": "code",
   "execution_count": 3,
   "id": "780b6468",
   "metadata": {},
   "outputs": [],
   "source": [
    "pd.set_option('display.max_columns',None)\n",
    "pd.set_option('display.max_rows',None)"
   ]
  },
  {
   "cell_type": "code",
   "execution_count": 4,
   "id": "2eec9bbd",
   "metadata": {},
   "outputs": [
    {
     "data": {
      "text/html": [
       "<div>\n",
       "<style scoped>\n",
       "    .dataframe tbody tr th:only-of-type {\n",
       "        vertical-align: middle;\n",
       "    }\n",
       "\n",
       "    .dataframe tbody tr th {\n",
       "        vertical-align: top;\n",
       "    }\n",
       "\n",
       "    .dataframe thead th {\n",
       "        text-align: right;\n",
       "    }\n",
       "</style>\n",
       "<table border=\"1\" class=\"dataframe\">\n",
       "  <thead>\n",
       "    <tr style=\"text-align: right;\">\n",
       "      <th></th>\n",
       "      <th>Unnamed: 0</th>\n",
       "      <th>ID</th>\n",
       "      <th>Salary</th>\n",
       "      <th>DOJ</th>\n",
       "      <th>DOL</th>\n",
       "      <th>Designation</th>\n",
       "      <th>JobCity</th>\n",
       "      <th>Gender</th>\n",
       "      <th>DOB</th>\n",
       "      <th>10percentage</th>\n",
       "      <th>10board</th>\n",
       "      <th>12graduation</th>\n",
       "      <th>12percentage</th>\n",
       "      <th>12board</th>\n",
       "      <th>CollegeID</th>\n",
       "      <th>CollegeTier</th>\n",
       "      <th>Degree</th>\n",
       "      <th>Specialization</th>\n",
       "      <th>collegeGPA</th>\n",
       "      <th>CollegeCityID</th>\n",
       "      <th>CollegeCityTier</th>\n",
       "      <th>CollegeState</th>\n",
       "      <th>GraduationYear</th>\n",
       "      <th>English</th>\n",
       "      <th>Logical</th>\n",
       "      <th>Quant</th>\n",
       "      <th>Domain</th>\n",
       "      <th>ComputerProgramming</th>\n",
       "      <th>ElectronicsAndSemicon</th>\n",
       "      <th>ComputerScience</th>\n",
       "      <th>MechanicalEngg</th>\n",
       "      <th>ElectricalEngg</th>\n",
       "      <th>TelecomEngg</th>\n",
       "      <th>CivilEngg</th>\n",
       "      <th>conscientiousness</th>\n",
       "      <th>agreeableness</th>\n",
       "      <th>extraversion</th>\n",
       "      <th>nueroticism</th>\n",
       "      <th>openess_to_experience</th>\n",
       "    </tr>\n",
       "  </thead>\n",
       "  <tbody>\n",
       "    <tr>\n",
       "      <th>0</th>\n",
       "      <td>train</td>\n",
       "      <td>203097</td>\n",
       "      <td>420000</td>\n",
       "      <td>2012-06-01</td>\n",
       "      <td>present</td>\n",
       "      <td>senior quality engineer</td>\n",
       "      <td>Bangalore</td>\n",
       "      <td>f</td>\n",
       "      <td>1990-02-19</td>\n",
       "      <td>84.3</td>\n",
       "      <td>board ofsecondary education,ap</td>\n",
       "      <td>2007</td>\n",
       "      <td>95.8</td>\n",
       "      <td>board of intermediate education,ap</td>\n",
       "      <td>1141</td>\n",
       "      <td>2</td>\n",
       "      <td>B.Tech/B.E.</td>\n",
       "      <td>computer engineering</td>\n",
       "      <td>78.00</td>\n",
       "      <td>1141</td>\n",
       "      <td>0</td>\n",
       "      <td>Andhra Pradesh</td>\n",
       "      <td>2011</td>\n",
       "      <td>515</td>\n",
       "      <td>585</td>\n",
       "      <td>525</td>\n",
       "      <td>0.635979</td>\n",
       "      <td>445</td>\n",
       "      <td>-1</td>\n",
       "      <td>-1</td>\n",
       "      <td>-1</td>\n",
       "      <td>-1</td>\n",
       "      <td>-1</td>\n",
       "      <td>-1</td>\n",
       "      <td>0.9737</td>\n",
       "      <td>0.8128</td>\n",
       "      <td>0.5269</td>\n",
       "      <td>1.35490</td>\n",
       "      <td>-0.4455</td>\n",
       "    </tr>\n",
       "    <tr>\n",
       "      <th>1</th>\n",
       "      <td>train</td>\n",
       "      <td>579905</td>\n",
       "      <td>500000</td>\n",
       "      <td>2013-09-01</td>\n",
       "      <td>present</td>\n",
       "      <td>assistant manager</td>\n",
       "      <td>Indore</td>\n",
       "      <td>m</td>\n",
       "      <td>1989-10-04</td>\n",
       "      <td>85.4</td>\n",
       "      <td>cbse</td>\n",
       "      <td>2007</td>\n",
       "      <td>85.0</td>\n",
       "      <td>cbse</td>\n",
       "      <td>5807</td>\n",
       "      <td>2</td>\n",
       "      <td>B.Tech/B.E.</td>\n",
       "      <td>electronics and communication engineering</td>\n",
       "      <td>70.06</td>\n",
       "      <td>5807</td>\n",
       "      <td>0</td>\n",
       "      <td>Madhya Pradesh</td>\n",
       "      <td>2012</td>\n",
       "      <td>695</td>\n",
       "      <td>610</td>\n",
       "      <td>780</td>\n",
       "      <td>0.960603</td>\n",
       "      <td>-1</td>\n",
       "      <td>466</td>\n",
       "      <td>-1</td>\n",
       "      <td>-1</td>\n",
       "      <td>-1</td>\n",
       "      <td>-1</td>\n",
       "      <td>-1</td>\n",
       "      <td>-0.7335</td>\n",
       "      <td>0.3789</td>\n",
       "      <td>1.2396</td>\n",
       "      <td>-0.10760</td>\n",
       "      <td>0.8637</td>\n",
       "    </tr>\n",
       "    <tr>\n",
       "      <th>2</th>\n",
       "      <td>train</td>\n",
       "      <td>810601</td>\n",
       "      <td>325000</td>\n",
       "      <td>2014-06-01</td>\n",
       "      <td>present</td>\n",
       "      <td>systems engineer</td>\n",
       "      <td>Chennai</td>\n",
       "      <td>f</td>\n",
       "      <td>1992-08-03</td>\n",
       "      <td>85.0</td>\n",
       "      <td>cbse</td>\n",
       "      <td>2010</td>\n",
       "      <td>68.2</td>\n",
       "      <td>cbse</td>\n",
       "      <td>64</td>\n",
       "      <td>2</td>\n",
       "      <td>B.Tech/B.E.</td>\n",
       "      <td>information technology</td>\n",
       "      <td>70.00</td>\n",
       "      <td>64</td>\n",
       "      <td>0</td>\n",
       "      <td>Uttar Pradesh</td>\n",
       "      <td>2014</td>\n",
       "      <td>615</td>\n",
       "      <td>545</td>\n",
       "      <td>370</td>\n",
       "      <td>0.450877</td>\n",
       "      <td>395</td>\n",
       "      <td>-1</td>\n",
       "      <td>-1</td>\n",
       "      <td>-1</td>\n",
       "      <td>-1</td>\n",
       "      <td>-1</td>\n",
       "      <td>-1</td>\n",
       "      <td>0.2718</td>\n",
       "      <td>1.7109</td>\n",
       "      <td>0.1637</td>\n",
       "      <td>-0.86820</td>\n",
       "      <td>0.6721</td>\n",
       "    </tr>\n",
       "    <tr>\n",
       "      <th>3</th>\n",
       "      <td>train</td>\n",
       "      <td>267447</td>\n",
       "      <td>1100000</td>\n",
       "      <td>2011-07-01</td>\n",
       "      <td>present</td>\n",
       "      <td>senior software engineer</td>\n",
       "      <td>Gurgaon</td>\n",
       "      <td>m</td>\n",
       "      <td>1989-12-05</td>\n",
       "      <td>85.6</td>\n",
       "      <td>cbse</td>\n",
       "      <td>2007</td>\n",
       "      <td>83.6</td>\n",
       "      <td>cbse</td>\n",
       "      <td>6920</td>\n",
       "      <td>1</td>\n",
       "      <td>B.Tech/B.E.</td>\n",
       "      <td>computer engineering</td>\n",
       "      <td>74.64</td>\n",
       "      <td>6920</td>\n",
       "      <td>1</td>\n",
       "      <td>Delhi</td>\n",
       "      <td>2011</td>\n",
       "      <td>635</td>\n",
       "      <td>585</td>\n",
       "      <td>625</td>\n",
       "      <td>0.974396</td>\n",
       "      <td>615</td>\n",
       "      <td>-1</td>\n",
       "      <td>-1</td>\n",
       "      <td>-1</td>\n",
       "      <td>-1</td>\n",
       "      <td>-1</td>\n",
       "      <td>-1</td>\n",
       "      <td>0.0464</td>\n",
       "      <td>0.3448</td>\n",
       "      <td>-0.3440</td>\n",
       "      <td>-0.40780</td>\n",
       "      <td>-0.9194</td>\n",
       "    </tr>\n",
       "    <tr>\n",
       "      <th>4</th>\n",
       "      <td>train</td>\n",
       "      <td>343523</td>\n",
       "      <td>200000</td>\n",
       "      <td>2014-03-01</td>\n",
       "      <td>2015-03-01 00:00:00</td>\n",
       "      <td>get</td>\n",
       "      <td>Manesar</td>\n",
       "      <td>m</td>\n",
       "      <td>1991-02-27</td>\n",
       "      <td>78.0</td>\n",
       "      <td>cbse</td>\n",
       "      <td>2008</td>\n",
       "      <td>76.8</td>\n",
       "      <td>cbse</td>\n",
       "      <td>11368</td>\n",
       "      <td>2</td>\n",
       "      <td>B.Tech/B.E.</td>\n",
       "      <td>electronics and communication engineering</td>\n",
       "      <td>73.90</td>\n",
       "      <td>11368</td>\n",
       "      <td>0</td>\n",
       "      <td>Uttar Pradesh</td>\n",
       "      <td>2012</td>\n",
       "      <td>545</td>\n",
       "      <td>625</td>\n",
       "      <td>465</td>\n",
       "      <td>0.124502</td>\n",
       "      <td>-1</td>\n",
       "      <td>233</td>\n",
       "      <td>-1</td>\n",
       "      <td>-1</td>\n",
       "      <td>-1</td>\n",
       "      <td>-1</td>\n",
       "      <td>-1</td>\n",
       "      <td>-0.8810</td>\n",
       "      <td>-0.2793</td>\n",
       "      <td>-1.0697</td>\n",
       "      <td>0.09163</td>\n",
       "      <td>-0.1295</td>\n",
       "    </tr>\n",
       "  </tbody>\n",
       "</table>\n",
       "</div>"
      ],
      "text/plain": [
       "  Unnamed: 0      ID   Salary        DOJ                  DOL  \\\n",
       "0      train  203097   420000 2012-06-01              present   \n",
       "1      train  579905   500000 2013-09-01              present   \n",
       "2      train  810601   325000 2014-06-01              present   \n",
       "3      train  267447  1100000 2011-07-01              present   \n",
       "4      train  343523   200000 2014-03-01  2015-03-01 00:00:00   \n",
       "\n",
       "                Designation    JobCity Gender        DOB  10percentage  \\\n",
       "0   senior quality engineer  Bangalore      f 1990-02-19          84.3   \n",
       "1         assistant manager     Indore      m 1989-10-04          85.4   \n",
       "2          systems engineer    Chennai      f 1992-08-03          85.0   \n",
       "3  senior software engineer    Gurgaon      m 1989-12-05          85.6   \n",
       "4                       get    Manesar      m 1991-02-27          78.0   \n",
       "\n",
       "                          10board  12graduation  12percentage  \\\n",
       "0  board ofsecondary education,ap          2007          95.8   \n",
       "1                            cbse          2007          85.0   \n",
       "2                            cbse          2010          68.2   \n",
       "3                            cbse          2007          83.6   \n",
       "4                            cbse          2008          76.8   \n",
       "\n",
       "                              12board  CollegeID  CollegeTier       Degree  \\\n",
       "0  board of intermediate education,ap       1141            2  B.Tech/B.E.   \n",
       "1                                cbse       5807            2  B.Tech/B.E.   \n",
       "2                                cbse         64            2  B.Tech/B.E.   \n",
       "3                                cbse       6920            1  B.Tech/B.E.   \n",
       "4                                cbse      11368            2  B.Tech/B.E.   \n",
       "\n",
       "                              Specialization  collegeGPA  CollegeCityID  \\\n",
       "0                       computer engineering       78.00           1141   \n",
       "1  electronics and communication engineering       70.06           5807   \n",
       "2                     information technology       70.00             64   \n",
       "3                       computer engineering       74.64           6920   \n",
       "4  electronics and communication engineering       73.90          11368   \n",
       "\n",
       "   CollegeCityTier    CollegeState  GraduationYear  English  Logical  Quant  \\\n",
       "0                0  Andhra Pradesh            2011      515      585    525   \n",
       "1                0  Madhya Pradesh            2012      695      610    780   \n",
       "2                0   Uttar Pradesh            2014      615      545    370   \n",
       "3                1           Delhi            2011      635      585    625   \n",
       "4                0   Uttar Pradesh            2012      545      625    465   \n",
       "\n",
       "     Domain  ComputerProgramming  ElectronicsAndSemicon  ComputerScience  \\\n",
       "0  0.635979                  445                     -1               -1   \n",
       "1  0.960603                   -1                    466               -1   \n",
       "2  0.450877                  395                     -1               -1   \n",
       "3  0.974396                  615                     -1               -1   \n",
       "4  0.124502                   -1                    233               -1   \n",
       "\n",
       "   MechanicalEngg  ElectricalEngg  TelecomEngg  CivilEngg  conscientiousness  \\\n",
       "0              -1              -1           -1         -1             0.9737   \n",
       "1              -1              -1           -1         -1            -0.7335   \n",
       "2              -1              -1           -1         -1             0.2718   \n",
       "3              -1              -1           -1         -1             0.0464   \n",
       "4              -1              -1           -1         -1            -0.8810   \n",
       "\n",
       "   agreeableness  extraversion  nueroticism  openess_to_experience  \n",
       "0         0.8128        0.5269      1.35490                -0.4455  \n",
       "1         0.3789        1.2396     -0.10760                 0.8637  \n",
       "2         1.7109        0.1637     -0.86820                 0.6721  \n",
       "3         0.3448       -0.3440     -0.40780                -0.9194  \n",
       "4        -0.2793       -1.0697      0.09163                -0.1295  "
      ]
     },
     "execution_count": 4,
     "metadata": {},
     "output_type": "execute_result"
    }
   ],
   "source": [
    "df = pd.read_excel(\"aspiring_minds_employability_outcomes_2015.xlsx\")\n",
    "df.head()"
   ]
  },
  {
   "cell_type": "code",
   "execution_count": 5,
   "id": "dcbc6600",
   "metadata": {},
   "outputs": [
    {
     "data": {
      "text/plain": [
       "(3998, 39)"
      ]
     },
     "execution_count": 5,
     "metadata": {},
     "output_type": "execute_result"
    }
   ],
   "source": [
    "df.shape"
   ]
  },
  {
   "cell_type": "code",
   "execution_count": 6,
   "id": "09cbf4a4",
   "metadata": {},
   "outputs": [
    {
     "name": "stdout",
     "output_type": "stream",
     "text": [
      "<class 'pandas.core.frame.DataFrame'>\n",
      "RangeIndex: 3998 entries, 0 to 3997\n",
      "Data columns (total 39 columns):\n",
      " #   Column                 Non-Null Count  Dtype         \n",
      "---  ------                 --------------  -----         \n",
      " 0   Unnamed: 0             3998 non-null   object        \n",
      " 1   ID                     3998 non-null   int64         \n",
      " 2   Salary                 3998 non-null   int64         \n",
      " 3   DOJ                    3998 non-null   datetime64[ns]\n",
      " 4   DOL                    3998 non-null   object        \n",
      " 5   Designation            3998 non-null   object        \n",
      " 6   JobCity                3998 non-null   object        \n",
      " 7   Gender                 3998 non-null   object        \n",
      " 8   DOB                    3998 non-null   datetime64[ns]\n",
      " 9   10percentage           3998 non-null   float64       \n",
      " 10  10board                3998 non-null   object        \n",
      " 11  12graduation           3998 non-null   int64         \n",
      " 12  12percentage           3998 non-null   float64       \n",
      " 13  12board                3998 non-null   object        \n",
      " 14  CollegeID              3998 non-null   int64         \n",
      " 15  CollegeTier            3998 non-null   int64         \n",
      " 16  Degree                 3998 non-null   object        \n",
      " 17  Specialization         3998 non-null   object        \n",
      " 18  collegeGPA             3998 non-null   float64       \n",
      " 19  CollegeCityID          3998 non-null   int64         \n",
      " 20  CollegeCityTier        3998 non-null   int64         \n",
      " 21  CollegeState           3998 non-null   object        \n",
      " 22  GraduationYear         3998 non-null   int64         \n",
      " 23  English                3998 non-null   int64         \n",
      " 24  Logical                3998 non-null   int64         \n",
      " 25  Quant                  3998 non-null   int64         \n",
      " 26  Domain                 3998 non-null   float64       \n",
      " 27  ComputerProgramming    3998 non-null   int64         \n",
      " 28  ElectronicsAndSemicon  3998 non-null   int64         \n",
      " 29  ComputerScience        3998 non-null   int64         \n",
      " 30  MechanicalEngg         3998 non-null   int64         \n",
      " 31  ElectricalEngg         3998 non-null   int64         \n",
      " 32  TelecomEngg            3998 non-null   int64         \n",
      " 33  CivilEngg              3998 non-null   int64         \n",
      " 34  conscientiousness      3998 non-null   float64       \n",
      " 35  agreeableness          3998 non-null   float64       \n",
      " 36  extraversion           3998 non-null   float64       \n",
      " 37  nueroticism            3998 non-null   float64       \n",
      " 38  openess_to_experience  3998 non-null   float64       \n",
      "dtypes: datetime64[ns](2), float64(9), int64(18), object(10)\n",
      "memory usage: 1.2+ MB\n"
     ]
    }
   ],
   "source": [
    "df.info(verbose=True)"
   ]
  },
  {
   "cell_type": "code",
   "execution_count": 7,
   "id": "920eae40",
   "metadata": {},
   "outputs": [
    {
     "data": {
      "text/html": [
       "<div>\n",
       "<style scoped>\n",
       "    .dataframe tbody tr th:only-of-type {\n",
       "        vertical-align: middle;\n",
       "    }\n",
       "\n",
       "    .dataframe tbody tr th {\n",
       "        vertical-align: top;\n",
       "    }\n",
       "\n",
       "    .dataframe thead th {\n",
       "        text-align: right;\n",
       "    }\n",
       "</style>\n",
       "<table border=\"1\" class=\"dataframe\">\n",
       "  <thead>\n",
       "    <tr style=\"text-align: right;\">\n",
       "      <th></th>\n",
       "      <th>ID</th>\n",
       "      <th>Salary</th>\n",
       "      <th>10percentage</th>\n",
       "      <th>12graduation</th>\n",
       "      <th>12percentage</th>\n",
       "      <th>CollegeID</th>\n",
       "      <th>CollegeTier</th>\n",
       "      <th>collegeGPA</th>\n",
       "      <th>CollegeCityID</th>\n",
       "      <th>CollegeCityTier</th>\n",
       "      <th>GraduationYear</th>\n",
       "      <th>English</th>\n",
       "      <th>Logical</th>\n",
       "      <th>Quant</th>\n",
       "      <th>Domain</th>\n",
       "      <th>ComputerProgramming</th>\n",
       "      <th>ElectronicsAndSemicon</th>\n",
       "      <th>ComputerScience</th>\n",
       "      <th>MechanicalEngg</th>\n",
       "      <th>ElectricalEngg</th>\n",
       "      <th>TelecomEngg</th>\n",
       "      <th>CivilEngg</th>\n",
       "      <th>conscientiousness</th>\n",
       "      <th>agreeableness</th>\n",
       "      <th>extraversion</th>\n",
       "      <th>nueroticism</th>\n",
       "      <th>openess_to_experience</th>\n",
       "    </tr>\n",
       "  </thead>\n",
       "  <tbody>\n",
       "    <tr>\n",
       "      <th>count</th>\n",
       "      <td>3.998000e+03</td>\n",
       "      <td>3.998000e+03</td>\n",
       "      <td>3998.000000</td>\n",
       "      <td>3998.000000</td>\n",
       "      <td>3998.000000</td>\n",
       "      <td>3998.000000</td>\n",
       "      <td>3998.000000</td>\n",
       "      <td>3998.000000</td>\n",
       "      <td>3998.000000</td>\n",
       "      <td>3998.000000</td>\n",
       "      <td>3998.000000</td>\n",
       "      <td>3998.000000</td>\n",
       "      <td>3998.000000</td>\n",
       "      <td>3998.000000</td>\n",
       "      <td>3998.000000</td>\n",
       "      <td>3998.000000</td>\n",
       "      <td>3998.000000</td>\n",
       "      <td>3998.000000</td>\n",
       "      <td>3998.000000</td>\n",
       "      <td>3998.000000</td>\n",
       "      <td>3998.000000</td>\n",
       "      <td>3998.000000</td>\n",
       "      <td>3998.000000</td>\n",
       "      <td>3998.000000</td>\n",
       "      <td>3998.000000</td>\n",
       "      <td>3998.000000</td>\n",
       "      <td>3998.000000</td>\n",
       "    </tr>\n",
       "    <tr>\n",
       "      <th>mean</th>\n",
       "      <td>6.637945e+05</td>\n",
       "      <td>3.076998e+05</td>\n",
       "      <td>77.925443</td>\n",
       "      <td>2008.087544</td>\n",
       "      <td>74.466366</td>\n",
       "      <td>5156.851426</td>\n",
       "      <td>1.925713</td>\n",
       "      <td>71.486171</td>\n",
       "      <td>5156.851426</td>\n",
       "      <td>0.300400</td>\n",
       "      <td>2012.105803</td>\n",
       "      <td>501.649075</td>\n",
       "      <td>501.598799</td>\n",
       "      <td>513.378189</td>\n",
       "      <td>0.510490</td>\n",
       "      <td>353.102801</td>\n",
       "      <td>95.328414</td>\n",
       "      <td>90.742371</td>\n",
       "      <td>22.974737</td>\n",
       "      <td>16.478739</td>\n",
       "      <td>31.851176</td>\n",
       "      <td>2.683842</td>\n",
       "      <td>-0.037831</td>\n",
       "      <td>0.146496</td>\n",
       "      <td>0.002763</td>\n",
       "      <td>-0.169033</td>\n",
       "      <td>-0.138110</td>\n",
       "    </tr>\n",
       "    <tr>\n",
       "      <th>std</th>\n",
       "      <td>3.632182e+05</td>\n",
       "      <td>2.127375e+05</td>\n",
       "      <td>9.850162</td>\n",
       "      <td>1.653599</td>\n",
       "      <td>10.999933</td>\n",
       "      <td>4802.261482</td>\n",
       "      <td>0.262270</td>\n",
       "      <td>8.167338</td>\n",
       "      <td>4802.261482</td>\n",
       "      <td>0.458489</td>\n",
       "      <td>31.857271</td>\n",
       "      <td>104.940021</td>\n",
       "      <td>86.783297</td>\n",
       "      <td>122.302332</td>\n",
       "      <td>0.468671</td>\n",
       "      <td>205.355519</td>\n",
       "      <td>158.241218</td>\n",
       "      <td>175.273083</td>\n",
       "      <td>98.123311</td>\n",
       "      <td>87.585634</td>\n",
       "      <td>104.852845</td>\n",
       "      <td>36.658505</td>\n",
       "      <td>1.028666</td>\n",
       "      <td>0.941782</td>\n",
       "      <td>0.951471</td>\n",
       "      <td>1.007580</td>\n",
       "      <td>1.008075</td>\n",
       "    </tr>\n",
       "    <tr>\n",
       "      <th>min</th>\n",
       "      <td>1.124400e+04</td>\n",
       "      <td>3.500000e+04</td>\n",
       "      <td>43.000000</td>\n",
       "      <td>1995.000000</td>\n",
       "      <td>40.000000</td>\n",
       "      <td>2.000000</td>\n",
       "      <td>1.000000</td>\n",
       "      <td>6.450000</td>\n",
       "      <td>2.000000</td>\n",
       "      <td>0.000000</td>\n",
       "      <td>0.000000</td>\n",
       "      <td>180.000000</td>\n",
       "      <td>195.000000</td>\n",
       "      <td>120.000000</td>\n",
       "      <td>-1.000000</td>\n",
       "      <td>-1.000000</td>\n",
       "      <td>-1.000000</td>\n",
       "      <td>-1.000000</td>\n",
       "      <td>-1.000000</td>\n",
       "      <td>-1.000000</td>\n",
       "      <td>-1.000000</td>\n",
       "      <td>-1.000000</td>\n",
       "      <td>-4.126700</td>\n",
       "      <td>-5.781600</td>\n",
       "      <td>-4.600900</td>\n",
       "      <td>-2.643000</td>\n",
       "      <td>-7.375700</td>\n",
       "    </tr>\n",
       "    <tr>\n",
       "      <th>25%</th>\n",
       "      <td>3.342842e+05</td>\n",
       "      <td>1.800000e+05</td>\n",
       "      <td>71.680000</td>\n",
       "      <td>2007.000000</td>\n",
       "      <td>66.000000</td>\n",
       "      <td>494.000000</td>\n",
       "      <td>2.000000</td>\n",
       "      <td>66.407500</td>\n",
       "      <td>494.000000</td>\n",
       "      <td>0.000000</td>\n",
       "      <td>2012.000000</td>\n",
       "      <td>425.000000</td>\n",
       "      <td>445.000000</td>\n",
       "      <td>430.000000</td>\n",
       "      <td>0.342315</td>\n",
       "      <td>295.000000</td>\n",
       "      <td>-1.000000</td>\n",
       "      <td>-1.000000</td>\n",
       "      <td>-1.000000</td>\n",
       "      <td>-1.000000</td>\n",
       "      <td>-1.000000</td>\n",
       "      <td>-1.000000</td>\n",
       "      <td>-0.713525</td>\n",
       "      <td>-0.287100</td>\n",
       "      <td>-0.604800</td>\n",
       "      <td>-0.868200</td>\n",
       "      <td>-0.669200</td>\n",
       "    </tr>\n",
       "    <tr>\n",
       "      <th>50%</th>\n",
       "      <td>6.396000e+05</td>\n",
       "      <td>3.000000e+05</td>\n",
       "      <td>79.150000</td>\n",
       "      <td>2008.000000</td>\n",
       "      <td>74.400000</td>\n",
       "      <td>3879.000000</td>\n",
       "      <td>2.000000</td>\n",
       "      <td>71.720000</td>\n",
       "      <td>3879.000000</td>\n",
       "      <td>0.000000</td>\n",
       "      <td>2013.000000</td>\n",
       "      <td>500.000000</td>\n",
       "      <td>505.000000</td>\n",
       "      <td>515.000000</td>\n",
       "      <td>0.622643</td>\n",
       "      <td>415.000000</td>\n",
       "      <td>-1.000000</td>\n",
       "      <td>-1.000000</td>\n",
       "      <td>-1.000000</td>\n",
       "      <td>-1.000000</td>\n",
       "      <td>-1.000000</td>\n",
       "      <td>-1.000000</td>\n",
       "      <td>0.046400</td>\n",
       "      <td>0.212400</td>\n",
       "      <td>0.091400</td>\n",
       "      <td>-0.234400</td>\n",
       "      <td>-0.094300</td>\n",
       "    </tr>\n",
       "    <tr>\n",
       "      <th>75%</th>\n",
       "      <td>9.904800e+05</td>\n",
       "      <td>3.700000e+05</td>\n",
       "      <td>85.670000</td>\n",
       "      <td>2009.000000</td>\n",
       "      <td>82.600000</td>\n",
       "      <td>8818.000000</td>\n",
       "      <td>2.000000</td>\n",
       "      <td>76.327500</td>\n",
       "      <td>8818.000000</td>\n",
       "      <td>1.000000</td>\n",
       "      <td>2014.000000</td>\n",
       "      <td>570.000000</td>\n",
       "      <td>565.000000</td>\n",
       "      <td>595.000000</td>\n",
       "      <td>0.842248</td>\n",
       "      <td>495.000000</td>\n",
       "      <td>233.000000</td>\n",
       "      <td>-1.000000</td>\n",
       "      <td>-1.000000</td>\n",
       "      <td>-1.000000</td>\n",
       "      <td>-1.000000</td>\n",
       "      <td>-1.000000</td>\n",
       "      <td>0.702700</td>\n",
       "      <td>0.812800</td>\n",
       "      <td>0.672000</td>\n",
       "      <td>0.526200</td>\n",
       "      <td>0.502400</td>\n",
       "    </tr>\n",
       "    <tr>\n",
       "      <th>max</th>\n",
       "      <td>1.298275e+06</td>\n",
       "      <td>4.000000e+06</td>\n",
       "      <td>97.760000</td>\n",
       "      <td>2013.000000</td>\n",
       "      <td>98.700000</td>\n",
       "      <td>18409.000000</td>\n",
       "      <td>2.000000</td>\n",
       "      <td>99.930000</td>\n",
       "      <td>18409.000000</td>\n",
       "      <td>1.000000</td>\n",
       "      <td>2017.000000</td>\n",
       "      <td>875.000000</td>\n",
       "      <td>795.000000</td>\n",
       "      <td>900.000000</td>\n",
       "      <td>0.999910</td>\n",
       "      <td>840.000000</td>\n",
       "      <td>612.000000</td>\n",
       "      <td>715.000000</td>\n",
       "      <td>623.000000</td>\n",
       "      <td>676.000000</td>\n",
       "      <td>548.000000</td>\n",
       "      <td>516.000000</td>\n",
       "      <td>1.995300</td>\n",
       "      <td>1.904800</td>\n",
       "      <td>2.535400</td>\n",
       "      <td>3.352500</td>\n",
       "      <td>1.822400</td>\n",
       "    </tr>\n",
       "  </tbody>\n",
       "</table>\n",
       "</div>"
      ],
      "text/plain": [
       "                 ID        Salary  10percentage  12graduation  12percentage  \\\n",
       "count  3.998000e+03  3.998000e+03   3998.000000   3998.000000   3998.000000   \n",
       "mean   6.637945e+05  3.076998e+05     77.925443   2008.087544     74.466366   \n",
       "std    3.632182e+05  2.127375e+05      9.850162      1.653599     10.999933   \n",
       "min    1.124400e+04  3.500000e+04     43.000000   1995.000000     40.000000   \n",
       "25%    3.342842e+05  1.800000e+05     71.680000   2007.000000     66.000000   \n",
       "50%    6.396000e+05  3.000000e+05     79.150000   2008.000000     74.400000   \n",
       "75%    9.904800e+05  3.700000e+05     85.670000   2009.000000     82.600000   \n",
       "max    1.298275e+06  4.000000e+06     97.760000   2013.000000     98.700000   \n",
       "\n",
       "          CollegeID  CollegeTier   collegeGPA  CollegeCityID  CollegeCityTier  \\\n",
       "count   3998.000000  3998.000000  3998.000000    3998.000000      3998.000000   \n",
       "mean    5156.851426     1.925713    71.486171    5156.851426         0.300400   \n",
       "std     4802.261482     0.262270     8.167338    4802.261482         0.458489   \n",
       "min        2.000000     1.000000     6.450000       2.000000         0.000000   \n",
       "25%      494.000000     2.000000    66.407500     494.000000         0.000000   \n",
       "50%     3879.000000     2.000000    71.720000    3879.000000         0.000000   \n",
       "75%     8818.000000     2.000000    76.327500    8818.000000         1.000000   \n",
       "max    18409.000000     2.000000    99.930000   18409.000000         1.000000   \n",
       "\n",
       "       GraduationYear      English      Logical        Quant       Domain  \\\n",
       "count     3998.000000  3998.000000  3998.000000  3998.000000  3998.000000   \n",
       "mean      2012.105803   501.649075   501.598799   513.378189     0.510490   \n",
       "std         31.857271   104.940021    86.783297   122.302332     0.468671   \n",
       "min          0.000000   180.000000   195.000000   120.000000    -1.000000   \n",
       "25%       2012.000000   425.000000   445.000000   430.000000     0.342315   \n",
       "50%       2013.000000   500.000000   505.000000   515.000000     0.622643   \n",
       "75%       2014.000000   570.000000   565.000000   595.000000     0.842248   \n",
       "max       2017.000000   875.000000   795.000000   900.000000     0.999910   \n",
       "\n",
       "       ComputerProgramming  ElectronicsAndSemicon  ComputerScience  \\\n",
       "count          3998.000000            3998.000000      3998.000000   \n",
       "mean            353.102801              95.328414        90.742371   \n",
       "std             205.355519             158.241218       175.273083   \n",
       "min              -1.000000              -1.000000        -1.000000   \n",
       "25%             295.000000              -1.000000        -1.000000   \n",
       "50%             415.000000              -1.000000        -1.000000   \n",
       "75%             495.000000             233.000000        -1.000000   \n",
       "max             840.000000             612.000000       715.000000   \n",
       "\n",
       "       MechanicalEngg  ElectricalEngg  TelecomEngg    CivilEngg  \\\n",
       "count     3998.000000     3998.000000  3998.000000  3998.000000   \n",
       "mean        22.974737       16.478739    31.851176     2.683842   \n",
       "std         98.123311       87.585634   104.852845    36.658505   \n",
       "min         -1.000000       -1.000000    -1.000000    -1.000000   \n",
       "25%         -1.000000       -1.000000    -1.000000    -1.000000   \n",
       "50%         -1.000000       -1.000000    -1.000000    -1.000000   \n",
       "75%         -1.000000       -1.000000    -1.000000    -1.000000   \n",
       "max        623.000000      676.000000   548.000000   516.000000   \n",
       "\n",
       "       conscientiousness  agreeableness  extraversion  nueroticism  \\\n",
       "count        3998.000000    3998.000000   3998.000000  3998.000000   \n",
       "mean           -0.037831       0.146496      0.002763    -0.169033   \n",
       "std             1.028666       0.941782      0.951471     1.007580   \n",
       "min            -4.126700      -5.781600     -4.600900    -2.643000   \n",
       "25%            -0.713525      -0.287100     -0.604800    -0.868200   \n",
       "50%             0.046400       0.212400      0.091400    -0.234400   \n",
       "75%             0.702700       0.812800      0.672000     0.526200   \n",
       "max             1.995300       1.904800      2.535400     3.352500   \n",
       "\n",
       "       openess_to_experience  \n",
       "count            3998.000000  \n",
       "mean               -0.138110  \n",
       "std                 1.008075  \n",
       "min                -7.375700  \n",
       "25%                -0.669200  \n",
       "50%                -0.094300  \n",
       "75%                 0.502400  \n",
       "max                 1.822400  "
      ]
     },
     "execution_count": 7,
     "metadata": {},
     "output_type": "execute_result"
    }
   ],
   "source": [
    "df.describe()"
   ]
  },
  {
   "cell_type": "code",
   "execution_count": 8,
   "id": "f9cd9dab",
   "metadata": {},
   "outputs": [
    {
     "data": {
      "text/plain": [
       "Unnamed: 0               0\n",
       "ID                       0\n",
       "Salary                   0\n",
       "DOJ                      0\n",
       "DOL                      0\n",
       "Designation              0\n",
       "JobCity                  0\n",
       "Gender                   0\n",
       "DOB                      0\n",
       "10percentage             0\n",
       "10board                  0\n",
       "12graduation             0\n",
       "12percentage             0\n",
       "12board                  0\n",
       "CollegeID                0\n",
       "CollegeTier              0\n",
       "Degree                   0\n",
       "Specialization           0\n",
       "collegeGPA               0\n",
       "CollegeCityID            0\n",
       "CollegeCityTier          0\n",
       "CollegeState             0\n",
       "GraduationYear           0\n",
       "English                  0\n",
       "Logical                  0\n",
       "Quant                    0\n",
       "Domain                   0\n",
       "ComputerProgramming      0\n",
       "ElectronicsAndSemicon    0\n",
       "ComputerScience          0\n",
       "MechanicalEngg           0\n",
       "ElectricalEngg           0\n",
       "TelecomEngg              0\n",
       "CivilEngg                0\n",
       "conscientiousness        0\n",
       "agreeableness            0\n",
       "extraversion             0\n",
       "nueroticism              0\n",
       "openess_to_experience    0\n",
       "dtype: int64"
      ]
     },
     "execution_count": 8,
     "metadata": {},
     "output_type": "execute_result"
    }
   ],
   "source": [
    "df.isnull().sum()"
   ]
  },
  {
   "cell_type": "code",
   "execution_count": 9,
   "id": "16ee57d6",
   "metadata": {},
   "outputs": [],
   "source": [
    "score_columns = ['ComputerProgramming','ElectronicsAndSemicon','ComputerScience',\n",
    "                 'MechanicalEngg','ElectricalEngg','TelecomEngg','CivilEngg']\n",
    "df[score_columns] = df[score_columns].replace(-1,0)"
   ]
  },
  {
   "cell_type": "code",
   "execution_count": 10,
   "id": "711e641e",
   "metadata": {},
   "outputs": [
    {
     "data": {
      "text/html": [
       "<div>\n",
       "<style scoped>\n",
       "    .dataframe tbody tr th:only-of-type {\n",
       "        vertical-align: middle;\n",
       "    }\n",
       "\n",
       "    .dataframe tbody tr th {\n",
       "        vertical-align: top;\n",
       "    }\n",
       "\n",
       "    .dataframe thead th {\n",
       "        text-align: right;\n",
       "    }\n",
       "</style>\n",
       "<table border=\"1\" class=\"dataframe\">\n",
       "  <thead>\n",
       "    <tr style=\"text-align: right;\">\n",
       "      <th></th>\n",
       "      <th>Unnamed: 0</th>\n",
       "      <th>ID</th>\n",
       "      <th>Salary</th>\n",
       "      <th>DOJ</th>\n",
       "      <th>DOL</th>\n",
       "      <th>Designation</th>\n",
       "      <th>JobCity</th>\n",
       "      <th>Gender</th>\n",
       "      <th>DOB</th>\n",
       "      <th>10percentage</th>\n",
       "      <th>10board</th>\n",
       "      <th>12graduation</th>\n",
       "      <th>12percentage</th>\n",
       "      <th>12board</th>\n",
       "      <th>CollegeID</th>\n",
       "      <th>CollegeTier</th>\n",
       "      <th>Degree</th>\n",
       "      <th>Specialization</th>\n",
       "      <th>collegeGPA</th>\n",
       "      <th>CollegeCityID</th>\n",
       "      <th>CollegeCityTier</th>\n",
       "      <th>CollegeState</th>\n",
       "      <th>GraduationYear</th>\n",
       "      <th>English</th>\n",
       "      <th>Logical</th>\n",
       "      <th>Quant</th>\n",
       "      <th>Domain</th>\n",
       "      <th>ComputerProgramming</th>\n",
       "      <th>ElectronicsAndSemicon</th>\n",
       "      <th>ComputerScience</th>\n",
       "      <th>MechanicalEngg</th>\n",
       "      <th>ElectricalEngg</th>\n",
       "      <th>TelecomEngg</th>\n",
       "      <th>CivilEngg</th>\n",
       "      <th>conscientiousness</th>\n",
       "      <th>agreeableness</th>\n",
       "      <th>extraversion</th>\n",
       "      <th>nueroticism</th>\n",
       "      <th>openess_to_experience</th>\n",
       "    </tr>\n",
       "  </thead>\n",
       "  <tbody>\n",
       "    <tr>\n",
       "      <th>0</th>\n",
       "      <td>train</td>\n",
       "      <td>203097</td>\n",
       "      <td>420000</td>\n",
       "      <td>2012-06-01</td>\n",
       "      <td>present</td>\n",
       "      <td>senior quality engineer</td>\n",
       "      <td>Bangalore</td>\n",
       "      <td>f</td>\n",
       "      <td>1990-02-19</td>\n",
       "      <td>84.3</td>\n",
       "      <td>board ofsecondary education,ap</td>\n",
       "      <td>2007</td>\n",
       "      <td>95.8</td>\n",
       "      <td>board of intermediate education,ap</td>\n",
       "      <td>1141</td>\n",
       "      <td>2</td>\n",
       "      <td>B.Tech/B.E.</td>\n",
       "      <td>computer engineering</td>\n",
       "      <td>78.00</td>\n",
       "      <td>1141</td>\n",
       "      <td>0</td>\n",
       "      <td>Andhra Pradesh</td>\n",
       "      <td>2011</td>\n",
       "      <td>515</td>\n",
       "      <td>585</td>\n",
       "      <td>525</td>\n",
       "      <td>0.635979</td>\n",
       "      <td>445</td>\n",
       "      <td>0</td>\n",
       "      <td>0</td>\n",
       "      <td>0</td>\n",
       "      <td>0</td>\n",
       "      <td>0</td>\n",
       "      <td>0</td>\n",
       "      <td>0.9737</td>\n",
       "      <td>0.8128</td>\n",
       "      <td>0.5269</td>\n",
       "      <td>1.35490</td>\n",
       "      <td>-0.4455</td>\n",
       "    </tr>\n",
       "    <tr>\n",
       "      <th>1</th>\n",
       "      <td>train</td>\n",
       "      <td>579905</td>\n",
       "      <td>500000</td>\n",
       "      <td>2013-09-01</td>\n",
       "      <td>present</td>\n",
       "      <td>assistant manager</td>\n",
       "      <td>Indore</td>\n",
       "      <td>m</td>\n",
       "      <td>1989-10-04</td>\n",
       "      <td>85.4</td>\n",
       "      <td>cbse</td>\n",
       "      <td>2007</td>\n",
       "      <td>85.0</td>\n",
       "      <td>cbse</td>\n",
       "      <td>5807</td>\n",
       "      <td>2</td>\n",
       "      <td>B.Tech/B.E.</td>\n",
       "      <td>electronics and communication engineering</td>\n",
       "      <td>70.06</td>\n",
       "      <td>5807</td>\n",
       "      <td>0</td>\n",
       "      <td>Madhya Pradesh</td>\n",
       "      <td>2012</td>\n",
       "      <td>695</td>\n",
       "      <td>610</td>\n",
       "      <td>780</td>\n",
       "      <td>0.960603</td>\n",
       "      <td>0</td>\n",
       "      <td>466</td>\n",
       "      <td>0</td>\n",
       "      <td>0</td>\n",
       "      <td>0</td>\n",
       "      <td>0</td>\n",
       "      <td>0</td>\n",
       "      <td>-0.7335</td>\n",
       "      <td>0.3789</td>\n",
       "      <td>1.2396</td>\n",
       "      <td>-0.10760</td>\n",
       "      <td>0.8637</td>\n",
       "    </tr>\n",
       "    <tr>\n",
       "      <th>2</th>\n",
       "      <td>train</td>\n",
       "      <td>810601</td>\n",
       "      <td>325000</td>\n",
       "      <td>2014-06-01</td>\n",
       "      <td>present</td>\n",
       "      <td>systems engineer</td>\n",
       "      <td>Chennai</td>\n",
       "      <td>f</td>\n",
       "      <td>1992-08-03</td>\n",
       "      <td>85.0</td>\n",
       "      <td>cbse</td>\n",
       "      <td>2010</td>\n",
       "      <td>68.2</td>\n",
       "      <td>cbse</td>\n",
       "      <td>64</td>\n",
       "      <td>2</td>\n",
       "      <td>B.Tech/B.E.</td>\n",
       "      <td>information technology</td>\n",
       "      <td>70.00</td>\n",
       "      <td>64</td>\n",
       "      <td>0</td>\n",
       "      <td>Uttar Pradesh</td>\n",
       "      <td>2014</td>\n",
       "      <td>615</td>\n",
       "      <td>545</td>\n",
       "      <td>370</td>\n",
       "      <td>0.450877</td>\n",
       "      <td>395</td>\n",
       "      <td>0</td>\n",
       "      <td>0</td>\n",
       "      <td>0</td>\n",
       "      <td>0</td>\n",
       "      <td>0</td>\n",
       "      <td>0</td>\n",
       "      <td>0.2718</td>\n",
       "      <td>1.7109</td>\n",
       "      <td>0.1637</td>\n",
       "      <td>-0.86820</td>\n",
       "      <td>0.6721</td>\n",
       "    </tr>\n",
       "    <tr>\n",
       "      <th>3</th>\n",
       "      <td>train</td>\n",
       "      <td>267447</td>\n",
       "      <td>1100000</td>\n",
       "      <td>2011-07-01</td>\n",
       "      <td>present</td>\n",
       "      <td>senior software engineer</td>\n",
       "      <td>Gurgaon</td>\n",
       "      <td>m</td>\n",
       "      <td>1989-12-05</td>\n",
       "      <td>85.6</td>\n",
       "      <td>cbse</td>\n",
       "      <td>2007</td>\n",
       "      <td>83.6</td>\n",
       "      <td>cbse</td>\n",
       "      <td>6920</td>\n",
       "      <td>1</td>\n",
       "      <td>B.Tech/B.E.</td>\n",
       "      <td>computer engineering</td>\n",
       "      <td>74.64</td>\n",
       "      <td>6920</td>\n",
       "      <td>1</td>\n",
       "      <td>Delhi</td>\n",
       "      <td>2011</td>\n",
       "      <td>635</td>\n",
       "      <td>585</td>\n",
       "      <td>625</td>\n",
       "      <td>0.974396</td>\n",
       "      <td>615</td>\n",
       "      <td>0</td>\n",
       "      <td>0</td>\n",
       "      <td>0</td>\n",
       "      <td>0</td>\n",
       "      <td>0</td>\n",
       "      <td>0</td>\n",
       "      <td>0.0464</td>\n",
       "      <td>0.3448</td>\n",
       "      <td>-0.3440</td>\n",
       "      <td>-0.40780</td>\n",
       "      <td>-0.9194</td>\n",
       "    </tr>\n",
       "    <tr>\n",
       "      <th>4</th>\n",
       "      <td>train</td>\n",
       "      <td>343523</td>\n",
       "      <td>200000</td>\n",
       "      <td>2014-03-01</td>\n",
       "      <td>2015-03-01 00:00:00</td>\n",
       "      <td>get</td>\n",
       "      <td>Manesar</td>\n",
       "      <td>m</td>\n",
       "      <td>1991-02-27</td>\n",
       "      <td>78.0</td>\n",
       "      <td>cbse</td>\n",
       "      <td>2008</td>\n",
       "      <td>76.8</td>\n",
       "      <td>cbse</td>\n",
       "      <td>11368</td>\n",
       "      <td>2</td>\n",
       "      <td>B.Tech/B.E.</td>\n",
       "      <td>electronics and communication engineering</td>\n",
       "      <td>73.90</td>\n",
       "      <td>11368</td>\n",
       "      <td>0</td>\n",
       "      <td>Uttar Pradesh</td>\n",
       "      <td>2012</td>\n",
       "      <td>545</td>\n",
       "      <td>625</td>\n",
       "      <td>465</td>\n",
       "      <td>0.124502</td>\n",
       "      <td>0</td>\n",
       "      <td>233</td>\n",
       "      <td>0</td>\n",
       "      <td>0</td>\n",
       "      <td>0</td>\n",
       "      <td>0</td>\n",
       "      <td>0</td>\n",
       "      <td>-0.8810</td>\n",
       "      <td>-0.2793</td>\n",
       "      <td>-1.0697</td>\n",
       "      <td>0.09163</td>\n",
       "      <td>-0.1295</td>\n",
       "    </tr>\n",
       "  </tbody>\n",
       "</table>\n",
       "</div>"
      ],
      "text/plain": [
       "  Unnamed: 0      ID   Salary        DOJ                  DOL  \\\n",
       "0      train  203097   420000 2012-06-01              present   \n",
       "1      train  579905   500000 2013-09-01              present   \n",
       "2      train  810601   325000 2014-06-01              present   \n",
       "3      train  267447  1100000 2011-07-01              present   \n",
       "4      train  343523   200000 2014-03-01  2015-03-01 00:00:00   \n",
       "\n",
       "                Designation    JobCity Gender        DOB  10percentage  \\\n",
       "0   senior quality engineer  Bangalore      f 1990-02-19          84.3   \n",
       "1         assistant manager     Indore      m 1989-10-04          85.4   \n",
       "2          systems engineer    Chennai      f 1992-08-03          85.0   \n",
       "3  senior software engineer    Gurgaon      m 1989-12-05          85.6   \n",
       "4                       get    Manesar      m 1991-02-27          78.0   \n",
       "\n",
       "                          10board  12graduation  12percentage  \\\n",
       "0  board ofsecondary education,ap          2007          95.8   \n",
       "1                            cbse          2007          85.0   \n",
       "2                            cbse          2010          68.2   \n",
       "3                            cbse          2007          83.6   \n",
       "4                            cbse          2008          76.8   \n",
       "\n",
       "                              12board  CollegeID  CollegeTier       Degree  \\\n",
       "0  board of intermediate education,ap       1141            2  B.Tech/B.E.   \n",
       "1                                cbse       5807            2  B.Tech/B.E.   \n",
       "2                                cbse         64            2  B.Tech/B.E.   \n",
       "3                                cbse       6920            1  B.Tech/B.E.   \n",
       "4                                cbse      11368            2  B.Tech/B.E.   \n",
       "\n",
       "                              Specialization  collegeGPA  CollegeCityID  \\\n",
       "0                       computer engineering       78.00           1141   \n",
       "1  electronics and communication engineering       70.06           5807   \n",
       "2                     information technology       70.00             64   \n",
       "3                       computer engineering       74.64           6920   \n",
       "4  electronics and communication engineering       73.90          11368   \n",
       "\n",
       "   CollegeCityTier    CollegeState  GraduationYear  English  Logical  Quant  \\\n",
       "0                0  Andhra Pradesh            2011      515      585    525   \n",
       "1                0  Madhya Pradesh            2012      695      610    780   \n",
       "2                0   Uttar Pradesh            2014      615      545    370   \n",
       "3                1           Delhi            2011      635      585    625   \n",
       "4                0   Uttar Pradesh            2012      545      625    465   \n",
       "\n",
       "     Domain  ComputerProgramming  ElectronicsAndSemicon  ComputerScience  \\\n",
       "0  0.635979                  445                      0                0   \n",
       "1  0.960603                    0                    466                0   \n",
       "2  0.450877                  395                      0                0   \n",
       "3  0.974396                  615                      0                0   \n",
       "4  0.124502                    0                    233                0   \n",
       "\n",
       "   MechanicalEngg  ElectricalEngg  TelecomEngg  CivilEngg  conscientiousness  \\\n",
       "0               0               0            0          0             0.9737   \n",
       "1               0               0            0          0            -0.7335   \n",
       "2               0               0            0          0             0.2718   \n",
       "3               0               0            0          0             0.0464   \n",
       "4               0               0            0          0            -0.8810   \n",
       "\n",
       "   agreeableness  extraversion  nueroticism  openess_to_experience  \n",
       "0         0.8128        0.5269      1.35490                -0.4455  \n",
       "1         0.3789        1.2396     -0.10760                 0.8637  \n",
       "2         1.7109        0.1637     -0.86820                 0.6721  \n",
       "3         0.3448       -0.3440     -0.40780                -0.9194  \n",
       "4        -0.2793       -1.0697      0.09163                -0.1295  "
      ]
     },
     "execution_count": 10,
     "metadata": {},
     "output_type": "execute_result"
    }
   ],
   "source": [
    "df.head()"
   ]
  },
  {
   "cell_type": "code",
   "execution_count": 11,
   "id": "ece4a579",
   "metadata": {},
   "outputs": [],
   "source": [
    "df['AMCAT_Score'] = df['ComputerProgramming']+df['ElectronicsAndSemicon']+df['ComputerScience']+df['MechanicalEngg']+df[\n",
    "    'ElectricalEngg']+df['TelecomEngg']+df['CivilEngg']"
   ]
  },
  {
   "cell_type": "code",
   "execution_count": 12,
   "id": "20d1c583",
   "metadata": {},
   "outputs": [],
   "source": [
    "df['AMCAT_Score'] = df['AMCAT_Score'].replace(0,np.nan)"
   ]
  },
  {
   "cell_type": "code",
   "execution_count": 13,
   "id": "1ceaac56",
   "metadata": {
    "scrolled": false
   },
   "outputs": [
    {
     "data": {
      "text/plain": [
       "Unnamed: 0                 0\n",
       "ID                         0\n",
       "Salary                     0\n",
       "DOJ                        0\n",
       "DOL                        0\n",
       "Designation                0\n",
       "JobCity                    0\n",
       "Gender                     0\n",
       "DOB                        0\n",
       "10percentage               0\n",
       "10board                    0\n",
       "12graduation               0\n",
       "12percentage               0\n",
       "12board                    0\n",
       "CollegeID                  0\n",
       "CollegeTier                0\n",
       "Degree                     0\n",
       "Specialization             0\n",
       "collegeGPA                 0\n",
       "CollegeCityID              0\n",
       "CollegeCityTier            0\n",
       "CollegeState               0\n",
       "GraduationYear             0\n",
       "English                    0\n",
       "Logical                    0\n",
       "Quant                      0\n",
       "Domain                     0\n",
       "ComputerProgramming        0\n",
       "ElectronicsAndSemicon      0\n",
       "ComputerScience            0\n",
       "MechanicalEngg             0\n",
       "ElectricalEngg             0\n",
       "TelecomEngg                0\n",
       "CivilEngg                  0\n",
       "conscientiousness          0\n",
       "agreeableness              0\n",
       "extraversion               0\n",
       "nueroticism                0\n",
       "openess_to_experience      0\n",
       "AMCAT_Score              130\n",
       "dtype: int64"
      ]
     },
     "execution_count": 13,
     "metadata": {},
     "output_type": "execute_result"
    }
   ],
   "source": [
    "df.isnull().sum()"
   ]
  },
  {
   "cell_type": "code",
   "execution_count": 14,
   "id": "f1b1247a",
   "metadata": {},
   "outputs": [],
   "source": [
    "# Removing Rows having null values \n",
    "df = df.dropna(subset = ['AMCAT_Score']).reset_index(drop='False')"
   ]
  },
  {
   "cell_type": "code",
   "execution_count": 15,
   "id": "0bb74ad8",
   "metadata": {},
   "outputs": [],
   "source": [
    "# Removing unwanted columns\n",
    "columns = ['Unnamed: 0','ID','CollegeID','CollegeCityID','CollegeCityTier','DOL']\n",
    "df = df.drop(columns,axis=1)"
   ]
  },
  {
   "cell_type": "code",
   "execution_count": 16,
   "id": "5997fe1c",
   "metadata": {},
   "outputs": [
    {
     "data": {
      "text/plain": [
       "(3868, 34)"
      ]
     },
     "execution_count": 16,
     "metadata": {},
     "output_type": "execute_result"
    }
   ],
   "source": [
    "# Shape of dataset\n",
    "df.shape"
   ]
  },
  {
   "cell_type": "code",
   "execution_count": 17,
   "id": "cba00e42",
   "metadata": {},
   "outputs": [],
   "source": [
    "# Extracting Joining year and Birth year\n",
    "df['Joining_year'] = df['DOJ'].dt.year\n",
    "df['Birth_Year'] = df['DOB'].dt.year"
   ]
  },
  {
   "cell_type": "code",
   "execution_count": 18,
   "id": "a487709b",
   "metadata": {},
   "outputs": [
    {
     "data": {
      "text/html": [
       "<div>\n",
       "<style scoped>\n",
       "    .dataframe tbody tr th:only-of-type {\n",
       "        vertical-align: middle;\n",
       "    }\n",
       "\n",
       "    .dataframe tbody tr th {\n",
       "        vertical-align: top;\n",
       "    }\n",
       "\n",
       "    .dataframe thead th {\n",
       "        text-align: right;\n",
       "    }\n",
       "</style>\n",
       "<table border=\"1\" class=\"dataframe\">\n",
       "  <thead>\n",
       "    <tr style=\"text-align: right;\">\n",
       "      <th></th>\n",
       "      <th>Salary</th>\n",
       "      <th>DOJ</th>\n",
       "      <th>Designation</th>\n",
       "      <th>JobCity</th>\n",
       "      <th>Gender</th>\n",
       "      <th>DOB</th>\n",
       "      <th>10percentage</th>\n",
       "      <th>10board</th>\n",
       "      <th>12graduation</th>\n",
       "      <th>12percentage</th>\n",
       "      <th>12board</th>\n",
       "      <th>CollegeTier</th>\n",
       "      <th>Degree</th>\n",
       "      <th>Specialization</th>\n",
       "      <th>collegeGPA</th>\n",
       "      <th>CollegeState</th>\n",
       "      <th>GraduationYear</th>\n",
       "      <th>English</th>\n",
       "      <th>Logical</th>\n",
       "      <th>Quant</th>\n",
       "      <th>Domain</th>\n",
       "      <th>ComputerProgramming</th>\n",
       "      <th>ElectronicsAndSemicon</th>\n",
       "      <th>ComputerScience</th>\n",
       "      <th>MechanicalEngg</th>\n",
       "      <th>ElectricalEngg</th>\n",
       "      <th>TelecomEngg</th>\n",
       "      <th>CivilEngg</th>\n",
       "      <th>conscientiousness</th>\n",
       "      <th>agreeableness</th>\n",
       "      <th>extraversion</th>\n",
       "      <th>nueroticism</th>\n",
       "      <th>openess_to_experience</th>\n",
       "      <th>AMCAT_Score</th>\n",
       "      <th>Joining_year</th>\n",
       "      <th>Birth_Year</th>\n",
       "    </tr>\n",
       "  </thead>\n",
       "  <tbody>\n",
       "    <tr>\n",
       "      <th>0</th>\n",
       "      <td>420000</td>\n",
       "      <td>2012-06-01</td>\n",
       "      <td>senior quality engineer</td>\n",
       "      <td>Bangalore</td>\n",
       "      <td>f</td>\n",
       "      <td>1990-02-19</td>\n",
       "      <td>84.3</td>\n",
       "      <td>board ofsecondary education,ap</td>\n",
       "      <td>2007</td>\n",
       "      <td>95.8</td>\n",
       "      <td>board of intermediate education,ap</td>\n",
       "      <td>2</td>\n",
       "      <td>B.Tech/B.E.</td>\n",
       "      <td>computer engineering</td>\n",
       "      <td>78.00</td>\n",
       "      <td>Andhra Pradesh</td>\n",
       "      <td>2011</td>\n",
       "      <td>515</td>\n",
       "      <td>585</td>\n",
       "      <td>525</td>\n",
       "      <td>0.635979</td>\n",
       "      <td>445</td>\n",
       "      <td>0</td>\n",
       "      <td>0</td>\n",
       "      <td>0</td>\n",
       "      <td>0</td>\n",
       "      <td>0</td>\n",
       "      <td>0</td>\n",
       "      <td>0.9737</td>\n",
       "      <td>0.8128</td>\n",
       "      <td>0.5269</td>\n",
       "      <td>1.35490</td>\n",
       "      <td>-0.4455</td>\n",
       "      <td>445.0</td>\n",
       "      <td>2012</td>\n",
       "      <td>1990</td>\n",
       "    </tr>\n",
       "    <tr>\n",
       "      <th>1</th>\n",
       "      <td>500000</td>\n",
       "      <td>2013-09-01</td>\n",
       "      <td>assistant manager</td>\n",
       "      <td>Indore</td>\n",
       "      <td>m</td>\n",
       "      <td>1989-10-04</td>\n",
       "      <td>85.4</td>\n",
       "      <td>cbse</td>\n",
       "      <td>2007</td>\n",
       "      <td>85.0</td>\n",
       "      <td>cbse</td>\n",
       "      <td>2</td>\n",
       "      <td>B.Tech/B.E.</td>\n",
       "      <td>electronics and communication engineering</td>\n",
       "      <td>70.06</td>\n",
       "      <td>Madhya Pradesh</td>\n",
       "      <td>2012</td>\n",
       "      <td>695</td>\n",
       "      <td>610</td>\n",
       "      <td>780</td>\n",
       "      <td>0.960603</td>\n",
       "      <td>0</td>\n",
       "      <td>466</td>\n",
       "      <td>0</td>\n",
       "      <td>0</td>\n",
       "      <td>0</td>\n",
       "      <td>0</td>\n",
       "      <td>0</td>\n",
       "      <td>-0.7335</td>\n",
       "      <td>0.3789</td>\n",
       "      <td>1.2396</td>\n",
       "      <td>-0.10760</td>\n",
       "      <td>0.8637</td>\n",
       "      <td>466.0</td>\n",
       "      <td>2013</td>\n",
       "      <td>1989</td>\n",
       "    </tr>\n",
       "    <tr>\n",
       "      <th>2</th>\n",
       "      <td>325000</td>\n",
       "      <td>2014-06-01</td>\n",
       "      <td>systems engineer</td>\n",
       "      <td>Chennai</td>\n",
       "      <td>f</td>\n",
       "      <td>1992-08-03</td>\n",
       "      <td>85.0</td>\n",
       "      <td>cbse</td>\n",
       "      <td>2010</td>\n",
       "      <td>68.2</td>\n",
       "      <td>cbse</td>\n",
       "      <td>2</td>\n",
       "      <td>B.Tech/B.E.</td>\n",
       "      <td>information technology</td>\n",
       "      <td>70.00</td>\n",
       "      <td>Uttar Pradesh</td>\n",
       "      <td>2014</td>\n",
       "      <td>615</td>\n",
       "      <td>545</td>\n",
       "      <td>370</td>\n",
       "      <td>0.450877</td>\n",
       "      <td>395</td>\n",
       "      <td>0</td>\n",
       "      <td>0</td>\n",
       "      <td>0</td>\n",
       "      <td>0</td>\n",
       "      <td>0</td>\n",
       "      <td>0</td>\n",
       "      <td>0.2718</td>\n",
       "      <td>1.7109</td>\n",
       "      <td>0.1637</td>\n",
       "      <td>-0.86820</td>\n",
       "      <td>0.6721</td>\n",
       "      <td>395.0</td>\n",
       "      <td>2014</td>\n",
       "      <td>1992</td>\n",
       "    </tr>\n",
       "    <tr>\n",
       "      <th>3</th>\n",
       "      <td>1100000</td>\n",
       "      <td>2011-07-01</td>\n",
       "      <td>senior software engineer</td>\n",
       "      <td>Gurgaon</td>\n",
       "      <td>m</td>\n",
       "      <td>1989-12-05</td>\n",
       "      <td>85.6</td>\n",
       "      <td>cbse</td>\n",
       "      <td>2007</td>\n",
       "      <td>83.6</td>\n",
       "      <td>cbse</td>\n",
       "      <td>1</td>\n",
       "      <td>B.Tech/B.E.</td>\n",
       "      <td>computer engineering</td>\n",
       "      <td>74.64</td>\n",
       "      <td>Delhi</td>\n",
       "      <td>2011</td>\n",
       "      <td>635</td>\n",
       "      <td>585</td>\n",
       "      <td>625</td>\n",
       "      <td>0.974396</td>\n",
       "      <td>615</td>\n",
       "      <td>0</td>\n",
       "      <td>0</td>\n",
       "      <td>0</td>\n",
       "      <td>0</td>\n",
       "      <td>0</td>\n",
       "      <td>0</td>\n",
       "      <td>0.0464</td>\n",
       "      <td>0.3448</td>\n",
       "      <td>-0.3440</td>\n",
       "      <td>-0.40780</td>\n",
       "      <td>-0.9194</td>\n",
       "      <td>615.0</td>\n",
       "      <td>2011</td>\n",
       "      <td>1989</td>\n",
       "    </tr>\n",
       "    <tr>\n",
       "      <th>4</th>\n",
       "      <td>200000</td>\n",
       "      <td>2014-03-01</td>\n",
       "      <td>get</td>\n",
       "      <td>Manesar</td>\n",
       "      <td>m</td>\n",
       "      <td>1991-02-27</td>\n",
       "      <td>78.0</td>\n",
       "      <td>cbse</td>\n",
       "      <td>2008</td>\n",
       "      <td>76.8</td>\n",
       "      <td>cbse</td>\n",
       "      <td>2</td>\n",
       "      <td>B.Tech/B.E.</td>\n",
       "      <td>electronics and communication engineering</td>\n",
       "      <td>73.90</td>\n",
       "      <td>Uttar Pradesh</td>\n",
       "      <td>2012</td>\n",
       "      <td>545</td>\n",
       "      <td>625</td>\n",
       "      <td>465</td>\n",
       "      <td>0.124502</td>\n",
       "      <td>0</td>\n",
       "      <td>233</td>\n",
       "      <td>0</td>\n",
       "      <td>0</td>\n",
       "      <td>0</td>\n",
       "      <td>0</td>\n",
       "      <td>0</td>\n",
       "      <td>-0.8810</td>\n",
       "      <td>-0.2793</td>\n",
       "      <td>-1.0697</td>\n",
       "      <td>0.09163</td>\n",
       "      <td>-0.1295</td>\n",
       "      <td>233.0</td>\n",
       "      <td>2014</td>\n",
       "      <td>1991</td>\n",
       "    </tr>\n",
       "  </tbody>\n",
       "</table>\n",
       "</div>"
      ],
      "text/plain": [
       "    Salary        DOJ               Designation    JobCity Gender        DOB  \\\n",
       "0   420000 2012-06-01   senior quality engineer  Bangalore      f 1990-02-19   \n",
       "1   500000 2013-09-01         assistant manager     Indore      m 1989-10-04   \n",
       "2   325000 2014-06-01          systems engineer    Chennai      f 1992-08-03   \n",
       "3  1100000 2011-07-01  senior software engineer    Gurgaon      m 1989-12-05   \n",
       "4   200000 2014-03-01                       get    Manesar      m 1991-02-27   \n",
       "\n",
       "   10percentage                         10board  12graduation  12percentage  \\\n",
       "0          84.3  board ofsecondary education,ap          2007          95.8   \n",
       "1          85.4                            cbse          2007          85.0   \n",
       "2          85.0                            cbse          2010          68.2   \n",
       "3          85.6                            cbse          2007          83.6   \n",
       "4          78.0                            cbse          2008          76.8   \n",
       "\n",
       "                              12board  CollegeTier       Degree  \\\n",
       "0  board of intermediate education,ap            2  B.Tech/B.E.   \n",
       "1                                cbse            2  B.Tech/B.E.   \n",
       "2                                cbse            2  B.Tech/B.E.   \n",
       "3                                cbse            1  B.Tech/B.E.   \n",
       "4                                cbse            2  B.Tech/B.E.   \n",
       "\n",
       "                              Specialization  collegeGPA    CollegeState  \\\n",
       "0                       computer engineering       78.00  Andhra Pradesh   \n",
       "1  electronics and communication engineering       70.06  Madhya Pradesh   \n",
       "2                     information technology       70.00   Uttar Pradesh   \n",
       "3                       computer engineering       74.64           Delhi   \n",
       "4  electronics and communication engineering       73.90   Uttar Pradesh   \n",
       "\n",
       "   GraduationYear  English  Logical  Quant    Domain  ComputerProgramming  \\\n",
       "0            2011      515      585    525  0.635979                  445   \n",
       "1            2012      695      610    780  0.960603                    0   \n",
       "2            2014      615      545    370  0.450877                  395   \n",
       "3            2011      635      585    625  0.974396                  615   \n",
       "4            2012      545      625    465  0.124502                    0   \n",
       "\n",
       "   ElectronicsAndSemicon  ComputerScience  MechanicalEngg  ElectricalEngg  \\\n",
       "0                      0                0               0               0   \n",
       "1                    466                0               0               0   \n",
       "2                      0                0               0               0   \n",
       "3                      0                0               0               0   \n",
       "4                    233                0               0               0   \n",
       "\n",
       "   TelecomEngg  CivilEngg  conscientiousness  agreeableness  extraversion  \\\n",
       "0            0          0             0.9737         0.8128        0.5269   \n",
       "1            0          0            -0.7335         0.3789        1.2396   \n",
       "2            0          0             0.2718         1.7109        0.1637   \n",
       "3            0          0             0.0464         0.3448       -0.3440   \n",
       "4            0          0            -0.8810        -0.2793       -1.0697   \n",
       "\n",
       "   nueroticism  openess_to_experience  AMCAT_Score  Joining_year  Birth_Year  \n",
       "0      1.35490                -0.4455        445.0          2012        1990  \n",
       "1     -0.10760                 0.8637        466.0          2013        1989  \n",
       "2     -0.86820                 0.6721        395.0          2014        1992  \n",
       "3     -0.40780                -0.9194        615.0          2011        1989  \n",
       "4      0.09163                -0.1295        233.0          2014        1991  "
      ]
     },
     "execution_count": 18,
     "metadata": {},
     "output_type": "execute_result"
    }
   ],
   "source": [
    "df.head()"
   ]
  },
  {
   "cell_type": "markdown",
   "id": "551ca58a",
   "metadata": {},
   "source": [
    "### Function to measure Central Tendency"
   ]
  },
  {
   "cell_type": "code",
   "execution_count": 19,
   "id": "cb5731aa",
   "metadata": {},
   "outputs": [],
   "source": [
    "def central_tendency(column):\n",
    "    print('Mean(Average) for {} is:        '.format(column),df[column].mean())\n",
    "    print('Median for {} is:               '.format(column),df[column].median())\n",
    "    print('Mode(Mostly repeated) for {} is:'.format(column),df[column].mode()[0])"
   ]
  },
  {
   "cell_type": "markdown",
   "id": "689550bf",
   "metadata": {},
   "source": [
    "### Function to measure Spread"
   ]
  },
  {
   "cell_type": "code",
   "execution_count": 20,
   "id": "42c3cab0",
   "metadata": {},
   "outputs": [],
   "source": [
    "def spread(column):\n",
    "    Q1 = df[column].quantile(q=0.25)\n",
    "    Q2 = df[column].quantile(q=0.5)\n",
    "    Q3 = df[column].quantile(q=0.75)\n",
    "    IQR = Q3-Q1\n",
    "    Upper_Bound = Q3 + 1.5*IQR\n",
    "    Lower_Bound = Q1 - 1.5*IQR\n",
    "    Range = df[column].max()-df[column].min()\n",
    "    print('The Range is:                ',Range)\n",
    "    print('The Quartiles Q1, Q2, Q3 are: ({},{},{})'.format(Q1,Q2,Q3))\n",
    "    print('The Inter-Quartile Range is  ',IQR)\n",
    "    print('The Lower and Upper Bound is: ({},{})'.format(Lower_Bound,Upper_Bound))\n",
    "    print('Variance is:                 ',variance(df[column]))\n",
    "    print('Standard Deviation is:       ',stdev(df[column]))"
   ]
  },
  {
   "cell_type": "markdown",
   "id": "9f0d0559",
   "metadata": {},
   "source": [
    "### Function to find % of employees more than average of specific column"
   ]
  },
  {
   "cell_type": "code",
   "execution_count": 21,
   "id": "ff3a23a4",
   "metadata": {},
   "outputs": [],
   "source": [
    "def morethan_average(column):\n",
    "    average_score = df[df[column]>=df[column].mean()]\n",
    "    count = average_score[column].count()\n",
    "    average = df[column].count()\n",
    "    print('% of employees having more than average {}: '.format(column),(count/average)*100)"
   ]
  },
  {
   "cell_type": "markdown",
   "id": "0b864eff",
   "metadata": {},
   "source": [
    "## 1. Boxplot for Salary"
   ]
  },
  {
   "cell_type": "code",
   "execution_count": 119,
   "id": "038dcf20",
   "metadata": {},
   "outputs": [
    {
     "data": {
      "image/svg+xml": [
       "<svg class=\"main-svg\" xmlns=\"http://www.w3.org/2000/svg\" xmlns:xlink=\"http://www.w3.org/1999/xlink\" width=\"700\" height=\"400\" style=\"\" viewBox=\"0 0 700 400\"><rect x=\"0\" y=\"0\" width=\"700\" height=\"400\" style=\"fill: rgb(255, 255, 255); fill-opacity: 1;\"/><defs id=\"defs-732477\"><g class=\"clips\"><clipPath id=\"clip732477xyplot\" class=\"plotclip\"><rect width=\"540\" height=\"260\"/></clipPath><clipPath class=\"axesclip\" id=\"clip732477x\"><rect x=\"80\" y=\"0\" width=\"540\" height=\"400\"/></clipPath><clipPath class=\"axesclip\" id=\"clip732477y\"><rect x=\"0\" y=\"60\" width=\"700\" height=\"260\"/></clipPath><clipPath class=\"axesclip\" id=\"clip732477xy\"><rect x=\"80\" y=\"60\" width=\"540\" height=\"260\"/></clipPath></g><g class=\"gradients\"/><g class=\"patterns\"/></defs><g class=\"bglayer\"><rect class=\"bg\" x=\"80\" y=\"60\" width=\"540\" height=\"260\" style=\"fill: rgb(0, 0, 0); fill-opacity: 1; stroke-width: 0;\"/></g><g class=\"layer-below\"><g class=\"imagelayer\"/><g class=\"shapelayer\"/></g><g class=\"cartesianlayer\"><g class=\"subplot xy\"><g class=\"layer-subplot\"><g class=\"shapelayer\"/><g class=\"imagelayer\"/></g><g class=\"gridlayer\"><g class=\"x\"/><g class=\"y\"/></g><g class=\"zerolinelayer\"/><path class=\"xlines-below\"/><path class=\"ylines-below\"/><g class=\"overlines-below\"/><g class=\"xaxislayer-below\"/><g class=\"yaxislayer-below\"/><g class=\"overaxes-below\"/><g class=\"plot\" transform=\"translate(80,60)\" clip-path=\"url(#clip732477xyplot)\"><g class=\"boxlayer mlayer\"><g class=\"trace boxes\" style=\"opacity: 1;\"><path class=\"box\" d=\"M59.48,193.7V66.3M44.77,193.7V66.3H68.67V193.7ZM44.77,130H27M68.67,130H103.61M27,161.85V98.15M103.61,161.85V98.15\" style=\"vector-effect: non-scaling-stroke; stroke-width: 2px; stroke: rgb(255, 0, 0); stroke-opacity: 1; fill: rgb(255, 0, 0); fill-opacity: 0.5;\"/><g class=\"points\"><path class=\"point\" transform=\"translate(104.83,130)\" d=\"M3,0A3,3 0 1,1 0,-3A3,3 0 0,1 3,0Z\" style=\"opacity: 1; stroke-width: 0px; fill: rgb(255, 0, 0); fill-opacity: 1;\"/><path class=\"point\" transform=\"translate(105.45,130)\" d=\"M3,0A3,3 0 1,1 0,-3A3,3 0 0,1 3,0Z\" style=\"opacity: 1; stroke-width: 0px; fill: rgb(255, 0, 0); fill-opacity: 1;\"/><path class=\"point\" transform=\"translate(105.45,130)\" d=\"M3,0A3,3 0 1,1 0,-3A3,3 0 0,1 3,0Z\" style=\"opacity: 1; stroke-width: 0px; fill: rgb(255, 0, 0); fill-opacity: 1;\"/><path class=\"point\" transform=\"translate(106.06,130)\" d=\"M3,0A3,3 0 1,1 0,-3A3,3 0 0,1 3,0Z\" style=\"opacity: 1; stroke-width: 0px; fill: rgb(255, 0, 0); fill-opacity: 1;\"/><path class=\"point\" transform=\"translate(106.06,130)\" d=\"M3,0A3,3 0 1,1 0,-3A3,3 0 0,1 3,0Z\" style=\"opacity: 1; stroke-width: 0px; fill: rgb(255, 0, 0); fill-opacity: 1;\"/><path class=\"point\" transform=\"translate(106.06,130)\" d=\"M3,0A3,3 0 1,1 0,-3A3,3 0 0,1 3,0Z\" style=\"opacity: 1; stroke-width: 0px; fill: rgb(255, 0, 0); fill-opacity: 1;\"/><path class=\"point\" transform=\"translate(107.28,130)\" d=\"M3,0A3,3 0 1,1 0,-3A3,3 0 0,1 3,0Z\" style=\"opacity: 1; stroke-width: 0px; fill: rgb(255, 0, 0); fill-opacity: 1;\"/><path class=\"point\" transform=\"translate(107.28,130)\" d=\"M3,0A3,3 0 1,1 0,-3A3,3 0 0,1 3,0Z\" style=\"opacity: 1; stroke-width: 0px; fill: rgb(255, 0, 0); fill-opacity: 1;\"/><path class=\"point\" transform=\"translate(108.51,130)\" d=\"M3,0A3,3 0 1,1 0,-3A3,3 0 0,1 3,0Z\" style=\"opacity: 1; stroke-width: 0px; fill: rgb(255, 0, 0); fill-opacity: 1;\"/><path class=\"point\" transform=\"translate(108.51,130)\" d=\"M3,0A3,3 0 1,1 0,-3A3,3 0 0,1 3,0Z\" style=\"opacity: 1; stroke-width: 0px; fill: rgb(255, 0, 0); fill-opacity: 1;\"/><path class=\"point\" transform=\"translate(108.51,130)\" d=\"M3,0A3,3 0 1,1 0,-3A3,3 0 0,1 3,0Z\" style=\"opacity: 1; stroke-width: 0px; fill: rgb(255, 0, 0); fill-opacity: 1;\"/><path class=\"point\" transform=\"translate(108.51,130)\" d=\"M3,0A3,3 0 1,1 0,-3A3,3 0 0,1 3,0Z\" style=\"opacity: 1; stroke-width: 0px; fill: rgb(255, 0, 0); fill-opacity: 1;\"/><path class=\"point\" transform=\"translate(108.51,130)\" d=\"M3,0A3,3 0 1,1 0,-3A3,3 0 0,1 3,0Z\" style=\"opacity: 1; stroke-width: 0px; fill: rgb(255, 0, 0); fill-opacity: 1;\"/><path class=\"point\" transform=\"translate(108.51,130)\" d=\"M3,0A3,3 0 1,1 0,-3A3,3 0 0,1 3,0Z\" style=\"opacity: 1; stroke-width: 0px; fill: rgb(255, 0, 0); fill-opacity: 1;\"/><path class=\"point\" transform=\"translate(108.51,130)\" d=\"M3,0A3,3 0 1,1 0,-3A3,3 0 0,1 3,0Z\" style=\"opacity: 1; stroke-width: 0px; fill: rgb(255, 0, 0); fill-opacity: 1;\"/><path class=\"point\" transform=\"translate(108.51,130)\" d=\"M3,0A3,3 0 1,1 0,-3A3,3 0 0,1 3,0Z\" style=\"opacity: 1; stroke-width: 0px; fill: rgb(255, 0, 0); fill-opacity: 1;\"/><path class=\"point\" transform=\"translate(108.51,130)\" d=\"M3,0A3,3 0 1,1 0,-3A3,3 0 0,1 3,0Z\" style=\"opacity: 1; stroke-width: 0px; fill: rgb(255, 0, 0); fill-opacity: 1;\"/><path class=\"point\" transform=\"translate(108.51,130)\" d=\"M3,0A3,3 0 1,1 0,-3A3,3 0 0,1 3,0Z\" style=\"opacity: 1; stroke-width: 0px; fill: rgb(255, 0, 0); fill-opacity: 1;\"/><path class=\"point\" transform=\"translate(108.51,130)\" d=\"M3,0A3,3 0 1,1 0,-3A3,3 0 0,1 3,0Z\" style=\"opacity: 1; stroke-width: 0px; fill: rgb(255, 0, 0); fill-opacity: 1;\"/><path class=\"point\" transform=\"translate(108.51,130)\" d=\"M3,0A3,3 0 1,1 0,-3A3,3 0 0,1 3,0Z\" style=\"opacity: 1; stroke-width: 0px; fill: rgb(255, 0, 0); fill-opacity: 1;\"/><path class=\"point\" transform=\"translate(108.51,130)\" d=\"M3,0A3,3 0 1,1 0,-3A3,3 0 0,1 3,0Z\" style=\"opacity: 1; stroke-width: 0px; fill: rgb(255, 0, 0); fill-opacity: 1;\"/><path class=\"point\" transform=\"translate(109.12,130)\" d=\"M3,0A3,3 0 1,1 0,-3A3,3 0 0,1 3,0Z\" style=\"opacity: 1; stroke-width: 0px; fill: rgb(255, 0, 0); fill-opacity: 1;\"/><path class=\"point\" transform=\"translate(110.35,130)\" d=\"M3,0A3,3 0 1,1 0,-3A3,3 0 0,1 3,0Z\" style=\"opacity: 1; stroke-width: 0px; fill: rgb(255, 0, 0); fill-opacity: 1;\"/><path class=\"point\" transform=\"translate(110.35,130)\" d=\"M3,0A3,3 0 1,1 0,-3A3,3 0 0,1 3,0Z\" style=\"opacity: 1; stroke-width: 0px; fill: rgb(255, 0, 0); fill-opacity: 1;\"/><path class=\"point\" transform=\"translate(110.96,130)\" d=\"M3,0A3,3 0 1,1 0,-3A3,3 0 0,1 3,0Z\" style=\"opacity: 1; stroke-width: 0px; fill: rgb(255, 0, 0); fill-opacity: 1;\"/><path class=\"point\" transform=\"translate(110.96,130)\" d=\"M3,0A3,3 0 1,1 0,-3A3,3 0 0,1 3,0Z\" style=\"opacity: 1; stroke-width: 0px; fill: rgb(255, 0, 0); fill-opacity: 1;\"/><path class=\"point\" transform=\"translate(110.96,130)\" d=\"M3,0A3,3 0 1,1 0,-3A3,3 0 0,1 3,0Z\" style=\"opacity: 1; stroke-width: 0px; fill: rgb(255, 0, 0); fill-opacity: 1;\"/><path class=\"point\" transform=\"translate(110.96,130)\" d=\"M3,0A3,3 0 1,1 0,-3A3,3 0 0,1 3,0Z\" style=\"opacity: 1; stroke-width: 0px; fill: rgb(255, 0, 0); fill-opacity: 1;\"/><path class=\"point\" transform=\"translate(110.96,130)\" d=\"M3,0A3,3 0 1,1 0,-3A3,3 0 0,1 3,0Z\" style=\"opacity: 1; stroke-width: 0px; fill: rgb(255, 0, 0); fill-opacity: 1;\"/><path class=\"point\" transform=\"translate(111.58,130)\" d=\"M3,0A3,3 0 1,1 0,-3A3,3 0 0,1 3,0Z\" style=\"opacity: 1; stroke-width: 0px; fill: rgb(255, 0, 0); fill-opacity: 1;\"/><path class=\"point\" transform=\"translate(112.19,130)\" d=\"M3,0A3,3 0 1,1 0,-3A3,3 0 0,1 3,0Z\" style=\"opacity: 1; stroke-width: 0px; fill: rgb(255, 0, 0); fill-opacity: 1;\"/><path class=\"point\" transform=\"translate(114.64,130)\" d=\"M3,0A3,3 0 1,1 0,-3A3,3 0 0,1 3,0Z\" style=\"opacity: 1; stroke-width: 0px; fill: rgb(255, 0, 0); fill-opacity: 1;\"/><path class=\"point\" transform=\"translate(114.64,130)\" d=\"M3,0A3,3 0 1,1 0,-3A3,3 0 0,1 3,0Z\" style=\"opacity: 1; stroke-width: 0px; fill: rgb(255, 0, 0); fill-opacity: 1;\"/><path class=\"point\" transform=\"translate(115.25,130)\" d=\"M3,0A3,3 0 1,1 0,-3A3,3 0 0,1 3,0Z\" style=\"opacity: 1; stroke-width: 0px; fill: rgb(255, 0, 0); fill-opacity: 1;\"/><path class=\"point\" transform=\"translate(115.87,130)\" d=\"M3,0A3,3 0 1,1 0,-3A3,3 0 0,1 3,0Z\" style=\"opacity: 1; stroke-width: 0px; fill: rgb(255, 0, 0); fill-opacity: 1;\"/><path class=\"point\" transform=\"translate(117.09,130)\" d=\"M3,0A3,3 0 1,1 0,-3A3,3 0 0,1 3,0Z\" style=\"opacity: 1; stroke-width: 0px; fill: rgb(255, 0, 0); fill-opacity: 1;\"/><path class=\"point\" transform=\"translate(117.7,130)\" d=\"M3,0A3,3 0 1,1 0,-3A3,3 0 0,1 3,0Z\" style=\"opacity: 1; stroke-width: 0px; fill: rgb(255, 0, 0); fill-opacity: 1;\"/><path class=\"point\" transform=\"translate(117.7,130)\" d=\"M3,0A3,3 0 1,1 0,-3A3,3 0 0,1 3,0Z\" style=\"opacity: 1; stroke-width: 0px; fill: rgb(255, 0, 0); fill-opacity: 1;\"/><path class=\"point\" transform=\"translate(118.93,130)\" d=\"M3,0A3,3 0 1,1 0,-3A3,3 0 0,1 3,0Z\" style=\"opacity: 1; stroke-width: 0px; fill: rgb(255, 0, 0); fill-opacity: 1;\"/><path class=\"point\" transform=\"translate(120.77,130)\" d=\"M3,0A3,3 0 1,1 0,-3A3,3 0 0,1 3,0Z\" style=\"opacity: 1; stroke-width: 0px; fill: rgb(255, 0, 0); fill-opacity: 1;\"/><path class=\"point\" transform=\"translate(120.77,130)\" d=\"M3,0A3,3 0 1,1 0,-3A3,3 0 0,1 3,0Z\" style=\"opacity: 1; stroke-width: 0px; fill: rgb(255, 0, 0); fill-opacity: 1;\"/><path class=\"point\" transform=\"translate(120.77,130)\" d=\"M3,0A3,3 0 1,1 0,-3A3,3 0 0,1 3,0Z\" style=\"opacity: 1; stroke-width: 0px; fill: rgb(255, 0, 0); fill-opacity: 1;\"/><path class=\"point\" transform=\"translate(120.77,130)\" d=\"M3,0A3,3 0 1,1 0,-3A3,3 0 0,1 3,0Z\" style=\"opacity: 1; stroke-width: 0px; fill: rgb(255, 0, 0); fill-opacity: 1;\"/><path class=\"point\" transform=\"translate(120.77,130)\" d=\"M3,0A3,3 0 1,1 0,-3A3,3 0 0,1 3,0Z\" style=\"opacity: 1; stroke-width: 0px; fill: rgb(255, 0, 0); fill-opacity: 1;\"/><path class=\"point\" transform=\"translate(120.77,130)\" d=\"M3,0A3,3 0 1,1 0,-3A3,3 0 0,1 3,0Z\" style=\"opacity: 1; stroke-width: 0px; fill: rgb(255, 0, 0); fill-opacity: 1;\"/><path class=\"point\" transform=\"translate(120.77,130)\" d=\"M3,0A3,3 0 1,1 0,-3A3,3 0 0,1 3,0Z\" style=\"opacity: 1; stroke-width: 0px; fill: rgb(255, 0, 0); fill-opacity: 1;\"/><path class=\"point\" transform=\"translate(120.77,130)\" d=\"M3,0A3,3 0 1,1 0,-3A3,3 0 0,1 3,0Z\" style=\"opacity: 1; stroke-width: 0px; fill: rgb(255, 0, 0); fill-opacity: 1;\"/><path class=\"point\" transform=\"translate(121.99,130)\" d=\"M3,0A3,3 0 1,1 0,-3A3,3 0 0,1 3,0Z\" style=\"opacity: 1; stroke-width: 0px; fill: rgb(255, 0, 0); fill-opacity: 1;\"/><path class=\"point\" transform=\"translate(123.22,130)\" d=\"M3,0A3,3 0 1,1 0,-3A3,3 0 0,1 3,0Z\" style=\"opacity: 1; stroke-width: 0px; fill: rgb(255, 0, 0); fill-opacity: 1;\"/><path class=\"point\" transform=\"translate(123.22,130)\" d=\"M3,0A3,3 0 1,1 0,-3A3,3 0 0,1 3,0Z\" style=\"opacity: 1; stroke-width: 0px; fill: rgb(255, 0, 0); fill-opacity: 1;\"/><path class=\"point\" transform=\"translate(123.22,130)\" d=\"M3,0A3,3 0 1,1 0,-3A3,3 0 0,1 3,0Z\" style=\"opacity: 1; stroke-width: 0px; fill: rgb(255, 0, 0); fill-opacity: 1;\"/><path class=\"point\" transform=\"translate(123.22,130)\" d=\"M3,0A3,3 0 1,1 0,-3A3,3 0 0,1 3,0Z\" style=\"opacity: 1; stroke-width: 0px; fill: rgb(255, 0, 0); fill-opacity: 1;\"/><path class=\"point\" transform=\"translate(126.28,130)\" d=\"M3,0A3,3 0 1,1 0,-3A3,3 0 0,1 3,0Z\" style=\"opacity: 1; stroke-width: 0px; fill: rgb(255, 0, 0); fill-opacity: 1;\"/><path class=\"point\" transform=\"translate(126.9,130)\" d=\"M3,0A3,3 0 1,1 0,-3A3,3 0 0,1 3,0Z\" style=\"opacity: 1; stroke-width: 0px; fill: rgb(255, 0, 0); fill-opacity: 1;\"/><path class=\"point\" transform=\"translate(126.9,130)\" d=\"M3,0A3,3 0 1,1 0,-3A3,3 0 0,1 3,0Z\" style=\"opacity: 1; stroke-width: 0px; fill: rgb(255, 0, 0); fill-opacity: 1;\"/><path class=\"point\" transform=\"translate(128.12,130)\" d=\"M3,0A3,3 0 1,1 0,-3A3,3 0 0,1 3,0Z\" style=\"opacity: 1; stroke-width: 0px; fill: rgb(255, 0, 0); fill-opacity: 1;\"/><path class=\"point\" transform=\"translate(129.35,130)\" d=\"M3,0A3,3 0 1,1 0,-3A3,3 0 0,1 3,0Z\" style=\"opacity: 1; stroke-width: 0px; fill: rgb(255, 0, 0); fill-opacity: 1;\"/><path class=\"point\" transform=\"translate(130.57,130)\" d=\"M3,0A3,3 0 1,1 0,-3A3,3 0 0,1 3,0Z\" style=\"opacity: 1; stroke-width: 0px; fill: rgb(255, 0, 0); fill-opacity: 1;\"/><path class=\"point\" transform=\"translate(133.03,130)\" d=\"M3,0A3,3 0 1,1 0,-3A3,3 0 0,1 3,0Z\" style=\"opacity: 1; stroke-width: 0px; fill: rgb(255, 0, 0); fill-opacity: 1;\"/><path class=\"point\" transform=\"translate(134.25,130)\" d=\"M3,0A3,3 0 1,1 0,-3A3,3 0 0,1 3,0Z\" style=\"opacity: 1; stroke-width: 0px; fill: rgb(255, 0, 0); fill-opacity: 1;\"/><path class=\"point\" transform=\"translate(136.09,130)\" d=\"M3,0A3,3 0 1,1 0,-3A3,3 0 0,1 3,0Z\" style=\"opacity: 1; stroke-width: 0px; fill: rgb(255, 0, 0); fill-opacity: 1;\"/><path class=\"point\" transform=\"translate(136.7,130)\" d=\"M3,0A3,3 0 1,1 0,-3A3,3 0 0,1 3,0Z\" style=\"opacity: 1; stroke-width: 0px; fill: rgb(255, 0, 0); fill-opacity: 1;\"/><path class=\"point\" transform=\"translate(139.15,130)\" d=\"M3,0A3,3 0 1,1 0,-3A3,3 0 0,1 3,0Z\" style=\"opacity: 1; stroke-width: 0px; fill: rgb(255, 0, 0); fill-opacity: 1;\"/><path class=\"point\" transform=\"translate(145.28,130)\" d=\"M3,0A3,3 0 1,1 0,-3A3,3 0 0,1 3,0Z\" style=\"opacity: 1; stroke-width: 0px; fill: rgb(255, 0, 0); fill-opacity: 1;\"/><path class=\"point\" transform=\"translate(145.28,130)\" d=\"M3,0A3,3 0 1,1 0,-3A3,3 0 0,1 3,0Z\" style=\"opacity: 1; stroke-width: 0px; fill: rgb(255, 0, 0); fill-opacity: 1;\"/><path class=\"point\" transform=\"translate(145.28,130)\" d=\"M3,0A3,3 0 1,1 0,-3A3,3 0 0,1 3,0Z\" style=\"opacity: 1; stroke-width: 0px; fill: rgb(255, 0, 0); fill-opacity: 1;\"/><path class=\"point\" transform=\"translate(148.35,130)\" d=\"M3,0A3,3 0 1,1 0,-3A3,3 0 0,1 3,0Z\" style=\"opacity: 1; stroke-width: 0px; fill: rgb(255, 0, 0); fill-opacity: 1;\"/><path class=\"point\" transform=\"translate(148.96,130)\" d=\"M3,0A3,3 0 1,1 0,-3A3,3 0 0,1 3,0Z\" style=\"opacity: 1; stroke-width: 0px; fill: rgb(255, 0, 0); fill-opacity: 1;\"/><path class=\"point\" transform=\"translate(151.41,130)\" d=\"M3,0A3,3 0 1,1 0,-3A3,3 0 0,1 3,0Z\" style=\"opacity: 1; stroke-width: 0px; fill: rgb(255, 0, 0); fill-opacity: 1;\"/><path class=\"point\" transform=\"translate(157.54,130)\" d=\"M3,0A3,3 0 1,1 0,-3A3,3 0 0,1 3,0Z\" style=\"opacity: 1; stroke-width: 0px; fill: rgb(255, 0, 0); fill-opacity: 1;\"/><path class=\"point\" transform=\"translate(157.54,130)\" d=\"M3,0A3,3 0 1,1 0,-3A3,3 0 0,1 3,0Z\" style=\"opacity: 1; stroke-width: 0px; fill: rgb(255, 0, 0); fill-opacity: 1;\"/><path class=\"point\" transform=\"translate(157.54,130)\" d=\"M3,0A3,3 0 1,1 0,-3A3,3 0 0,1 3,0Z\" style=\"opacity: 1; stroke-width: 0px; fill: rgb(255, 0, 0); fill-opacity: 1;\"/><path class=\"point\" transform=\"translate(158.77,130)\" d=\"M3,0A3,3 0 1,1 0,-3A3,3 0 0,1 3,0Z\" style=\"opacity: 1; stroke-width: 0px; fill: rgb(255, 0, 0); fill-opacity: 1;\"/><path class=\"point\" transform=\"translate(169.8,130)\" d=\"M3,0A3,3 0 1,1 0,-3A3,3 0 0,1 3,0Z\" style=\"opacity: 1; stroke-width: 0px; fill: rgb(255, 0, 0); fill-opacity: 1;\"/><path class=\"point\" transform=\"translate(169.8,130)\" d=\"M3,0A3,3 0 1,1 0,-3A3,3 0 0,1 3,0Z\" style=\"opacity: 1; stroke-width: 0px; fill: rgb(255, 0, 0); fill-opacity: 1;\"/><path class=\"point\" transform=\"translate(169.8,130)\" d=\"M3,0A3,3 0 1,1 0,-3A3,3 0 0,1 3,0Z\" style=\"opacity: 1; stroke-width: 0px; fill: rgb(255, 0, 0); fill-opacity: 1;\"/><path class=\"point\" transform=\"translate(169.8,130)\" d=\"M3,0A3,3 0 1,1 0,-3A3,3 0 0,1 3,0Z\" style=\"opacity: 1; stroke-width: 0px; fill: rgb(255, 0, 0); fill-opacity: 1;\"/><path class=\"point\" transform=\"translate(169.8,130)\" d=\"M3,0A3,3 0 1,1 0,-3A3,3 0 0,1 3,0Z\" style=\"opacity: 1; stroke-width: 0px; fill: rgb(255, 0, 0); fill-opacity: 1;\"/><path class=\"point\" transform=\"translate(171.02,130)\" d=\"M3,0A3,3 0 1,1 0,-3A3,3 0 0,1 3,0Z\" style=\"opacity: 1; stroke-width: 0px; fill: rgb(255, 0, 0); fill-opacity: 1;\"/><path class=\"point\" transform=\"translate(182.05,130)\" d=\"M3,0A3,3 0 1,1 0,-3A3,3 0 0,1 3,0Z\" style=\"opacity: 1; stroke-width: 0px; fill: rgb(255, 0, 0); fill-opacity: 1;\"/><path class=\"point\" transform=\"translate(182.05,130)\" d=\"M3,0A3,3 0 1,1 0,-3A3,3 0 0,1 3,0Z\" style=\"opacity: 1; stroke-width: 0px; fill: rgb(255, 0, 0); fill-opacity: 1;\"/><path class=\"point\" transform=\"translate(182.05,130)\" d=\"M3,0A3,3 0 1,1 0,-3A3,3 0 0,1 3,0Z\" style=\"opacity: 1; stroke-width: 0px; fill: rgb(255, 0, 0); fill-opacity: 1;\"/><path class=\"point\" transform=\"translate(184.51,130)\" d=\"M3,0A3,3 0 1,1 0,-3A3,3 0 0,1 3,0Z\" style=\"opacity: 1; stroke-width: 0px; fill: rgb(255, 0, 0); fill-opacity: 1;\"/><path class=\"point\" transform=\"translate(206.57,130)\" d=\"M3,0A3,3 0 1,1 0,-3A3,3 0 0,1 3,0Z\" style=\"opacity: 1; stroke-width: 0px; fill: rgb(255, 0, 0); fill-opacity: 1;\"/><path class=\"point\" transform=\"translate(206.57,130)\" d=\"M3,0A3,3 0 1,1 0,-3A3,3 0 0,1 3,0Z\" style=\"opacity: 1; stroke-width: 0px; fill: rgb(255, 0, 0); fill-opacity: 1;\"/><path class=\"point\" transform=\"translate(236.6,130)\" d=\"M3,0A3,3 0 1,1 0,-3A3,3 0 0,1 3,0Z\" style=\"opacity: 1; stroke-width: 0px; fill: rgb(255, 0, 0); fill-opacity: 1;\"/><path class=\"point\" transform=\"translate(243.34,130)\" d=\"M3,0A3,3 0 1,1 0,-3A3,3 0 0,1 3,0Z\" style=\"opacity: 1; stroke-width: 0px; fill: rgb(255, 0, 0); fill-opacity: 1;\"/><path class=\"point\" transform=\"translate(243.34,130)\" d=\"M3,0A3,3 0 1,1 0,-3A3,3 0 0,1 3,0Z\" style=\"opacity: 1; stroke-width: 0px; fill: rgb(255, 0, 0); fill-opacity: 1;\"/><path class=\"point\" transform=\"translate(250.69,130)\" d=\"M3,0A3,3 0 1,1 0,-3A3,3 0 0,1 3,0Z\" style=\"opacity: 1; stroke-width: 0px; fill: rgb(255, 0, 0); fill-opacity: 1;\"/><path class=\"point\" transform=\"translate(267.85,130)\" d=\"M3,0A3,3 0 1,1 0,-3A3,3 0 0,1 3,0Z\" style=\"opacity: 1; stroke-width: 0px; fill: rgb(255, 0, 0); fill-opacity: 1;\"/><path class=\"point\" transform=\"translate(267.85,130)\" d=\"M3,0A3,3 0 1,1 0,-3A3,3 0 0,1 3,0Z\" style=\"opacity: 1; stroke-width: 0px; fill: rgb(255, 0, 0); fill-opacity: 1;\"/><path class=\"point\" transform=\"translate(267.85,130)\" d=\"M3,0A3,3 0 1,1 0,-3A3,3 0 0,1 3,0Z\" style=\"opacity: 1; stroke-width: 0px; fill: rgb(255, 0, 0); fill-opacity: 1;\"/><path class=\"point\" transform=\"translate(267.85,130)\" d=\"M3,0A3,3 0 1,1 0,-3A3,3 0 0,1 3,0Z\" style=\"opacity: 1; stroke-width: 0px; fill: rgb(255, 0, 0); fill-opacity: 1;\"/><path class=\"point\" transform=\"translate(270.31,130)\" d=\"M3,0A3,3 0 1,1 0,-3A3,3 0 0,1 3,0Z\" style=\"opacity: 1; stroke-width: 0px; fill: rgb(255, 0, 0); fill-opacity: 1;\"/><path class=\"point\" transform=\"translate(273.98,130)\" d=\"M3,0A3,3 0 1,1 0,-3A3,3 0 0,1 3,0Z\" style=\"opacity: 1; stroke-width: 0px; fill: rgb(255, 0, 0); fill-opacity: 1;\"/><path class=\"point\" transform=\"translate(304.63,130)\" d=\"M3,0A3,3 0 1,1 0,-3A3,3 0 0,1 3,0Z\" style=\"opacity: 1; stroke-width: 0px; fill: rgb(255, 0, 0); fill-opacity: 1;\"/><path class=\"point\" transform=\"translate(329.14,130)\" d=\"M3,0A3,3 0 1,1 0,-3A3,3 0 0,1 3,0Z\" style=\"opacity: 1; stroke-width: 0px; fill: rgb(255, 0, 0); fill-opacity: 1;\"/><path class=\"point\" transform=\"translate(341.4,130)\" d=\"M3,0A3,3 0 1,1 0,-3A3,3 0 0,1 3,0Z\" style=\"opacity: 1; stroke-width: 0px; fill: rgb(255, 0, 0); fill-opacity: 1;\"/><path class=\"point\" transform=\"translate(390.43,130)\" d=\"M3,0A3,3 0 1,1 0,-3A3,3 0 0,1 3,0Z\" style=\"opacity: 1; stroke-width: 0px; fill: rgb(255, 0, 0); fill-opacity: 1;\"/><path class=\"point\" transform=\"translate(451.71,130)\" d=\"M3,0A3,3 0 1,1 0,-3A3,3 0 0,1 3,0Z\" style=\"opacity: 1; stroke-width: 0px; fill: rgb(255, 0, 0); fill-opacity: 1;\"/><path class=\"point\" transform=\"translate(513,130)\" d=\"M3,0A3,3 0 1,1 0,-3A3,3 0 0,1 3,0Z\" style=\"opacity: 1; stroke-width: 0px; fill: rgb(255, 0, 0); fill-opacity: 1;\"/><path class=\"point\" transform=\"translate(513,130)\" d=\"M3,0A3,3 0 1,1 0,-3A3,3 0 0,1 3,0Z\" style=\"opacity: 1; stroke-width: 0px; fill: rgb(255, 0, 0); fill-opacity: 1;\"/></g></g></g></g><g class=\"overplot\"/><path class=\"xlines-above crisp\" d=\"M0,0\" style=\"fill: none;\"/><path class=\"ylines-above crisp\" d=\"M0,0\" style=\"fill: none;\"/><g class=\"overlines-above\"/><g class=\"xaxislayer-above\"><g class=\"xtick\"><text text-anchor=\"middle\" x=\"0\" y=\"333\" transform=\"translate(102.71000000000001,0)\" style=\"font-family: 'Open Sans', verdana, arial, sans-serif; font-size: 12px; fill: rgb(42, 63, 95); fill-opacity: 1; white-space: pre; opacity: 1;\">0</text></g><g class=\"xtick\"><text text-anchor=\"middle\" x=\"0\" y=\"333\" style=\"font-family: 'Open Sans', verdana, arial, sans-serif; font-size: 12px; fill: rgb(42, 63, 95); fill-opacity: 1; white-space: pre; opacity: 1;\" transform=\"translate(225.28,0)\">1M</text></g><g class=\"xtick\"><text text-anchor=\"middle\" x=\"0\" y=\"333\" style=\"font-family: 'Open Sans', verdana, arial, sans-serif; font-size: 12px; fill: rgb(42, 63, 95); fill-opacity: 1; white-space: pre; opacity: 1;\" transform=\"translate(347.85,0)\">2M</text></g><g class=\"xtick\"><text text-anchor=\"middle\" x=\"0\" y=\"333\" style=\"font-family: 'Open Sans', verdana, arial, sans-serif; font-size: 12px; fill: rgb(42, 63, 95); fill-opacity: 1; white-space: pre; opacity: 1;\" transform=\"translate(470.43,0)\">3M</text></g><g class=\"xtick\"><text text-anchor=\"middle\" x=\"0\" y=\"333\" style=\"font-family: 'Open Sans', verdana, arial, sans-serif; font-size: 12px; fill: rgb(42, 63, 95); fill-opacity: 1; white-space: pre; opacity: 1;\" transform=\"translate(593,0)\">4M</text></g></g><g class=\"yaxislayer-above\"><g class=\"ytick\"><text text-anchor=\"end\" x=\"79\" y=\"4.199999999999999\" transform=\"translate(0,190)\" style=\"font-family: 'Open Sans', verdana, arial, sans-serif; font-size: 12px; fill: rgb(42, 63, 95); fill-opacity: 1; white-space: pre; opacity: 1;\"> </text></g></g><g class=\"overaxes-above\"/></g></g><g class=\"polarlayer\"/><g class=\"ternarylayer\"/><g class=\"geolayer\"/><g class=\"funnelarealayer\"/><g class=\"pielayer\"/><g class=\"iciclelayer\"/><g class=\"treemaplayer\"/><g class=\"sunburstlayer\"/><g class=\"glimages\"/><defs id=\"topdefs-732477\"><g class=\"clips\"/></defs><g class=\"layer-above\"><g class=\"imagelayer\"/><g class=\"shapelayer\"/></g><g class=\"infolayer\"><g class=\"g-gtitle\"/><g class=\"g-xtitle\"><text class=\"xtitle\" x=\"350\" y=\"360.8\" text-anchor=\"middle\" style=\"font-family: 'Open Sans', verdana, arial, sans-serif; font-size: 14px; fill: rgb(42, 63, 95); opacity: 1; font-weight: normal; white-space: pre;\">Salary</text></g><g class=\"g-ytitle\"/></g></svg>"
      ]
     },
     "metadata": {},
     "output_type": "display_data"
    }
   ],
   "source": [
    "df1 = df\n",
    "df1[' '] = ' '\n",
    "fig = px.box(df1,x='Salary',color=' ',color_discrete_map={\n",
    "                \" \": \"red\"},height=400)\n",
    "fig.update_layout(plot_bgcolor='black',showlegend=False)\n",
    "\n",
    "fig.update_xaxes(showgrid=False,zeroline=False)\n",
    "fig.update_yaxes(showgrid=False)\n",
    "fig.show(renderer=\"svg\")"
   ]
  },
  {
   "cell_type": "code",
   "execution_count": 23,
   "id": "be3ea300",
   "metadata": {},
   "outputs": [
    {
     "name": "stdout",
     "output_type": "stream",
     "text": [
      "% of employees having more than average Salary:  45.19131334022751\n"
     ]
    }
   ],
   "source": [
    "morethan_average('Salary')"
   ]
  },
  {
   "cell_type": "markdown",
   "id": "773876a7",
   "metadata": {},
   "source": [
    "#### Observation:\n",
    "* There are more employees with salary greater than maxima. These are outliers\n",
    "* There are employees with a higher salary of 4M. These employees may have more experience in their respective field.\n",
    "* The median salary is 300K and the minimum salary is 35K."
   ]
  },
  {
   "cell_type": "markdown",
   "id": "b6957142",
   "metadata": {},
   "source": [
    "#### Measure of Central Tendency"
   ]
  },
  {
   "cell_type": "code",
   "execution_count": 24,
   "id": "2144a0fb",
   "metadata": {},
   "outputs": [
    {
     "name": "stdout",
     "output_type": "stream",
     "text": [
      "Mean(Average) for Salary is:         308754.9120992761\n",
      "Median for Salary is:                300000.0\n",
      "Mode(Mostly repeated) for Salary is: 300000\n"
     ]
    }
   ],
   "source": [
    "central_tendency('Salary')"
   ]
  },
  {
   "cell_type": "markdown",
   "id": "5e669b60",
   "metadata": {},
   "source": [
    "#### Measure of Spread"
   ]
  },
  {
   "cell_type": "code",
   "execution_count": 25,
   "id": "0dfc2706",
   "metadata": {},
   "outputs": [
    {
     "name": "stdout",
     "output_type": "stream",
     "text": [
      "The Range is:                 3965000\n",
      "The Quartiles Q1, Q2, Q3 are: (180000.0,300000.0,375000.0)\n",
      "The Inter-Quartile Range is   195000.0\n",
      "The Lower and Upper Bound is: (-112500.0,667500.0)\n",
      "Variance is:                  46068763810.879265\n",
      "Standard Deviation is:        214636.3524915555\n"
     ]
    }
   ],
   "source": [
    "spread('Salary')"
   ]
  },
  {
   "cell_type": "markdown",
   "id": "04cf15ba",
   "metadata": {},
   "source": [
    "#### Measures of Shape\n"
   ]
  },
  {
   "cell_type": "code",
   "execution_count": 26,
   "id": "4e9e381a",
   "metadata": {},
   "outputs": [
    {
     "data": {
      "text/plain": [
       "6.474920879132869"
      ]
     },
     "execution_count": 26,
     "metadata": {},
     "output_type": "execute_result"
    }
   ],
   "source": [
    "df['Salary'].skew()"
   ]
  },
  {
   "cell_type": "markdown",
   "id": "8c87ac98",
   "metadata": {},
   "source": [
    "* The skewness is 6.47 which is greater than 1.\n",
    "* Here, the distribution is highly positive skewed."
   ]
  },
  {
   "cell_type": "code",
   "execution_count": 27,
   "id": "a39035cd",
   "metadata": {
    "scrolled": true
   },
   "outputs": [
    {
     "data": {
      "text/plain": [
       "80.5752139170702"
      ]
     },
     "execution_count": 27,
     "metadata": {},
     "output_type": "execute_result"
    }
   ],
   "source": [
    "df['Salary'].kurt()"
   ]
  },
  {
   "cell_type": "markdown",
   "id": "44a4f9ef",
   "metadata": {},
   "source": [
    "* The Kurtosis for salary is 80.57 which is greater than 3.\n",
    "* Hence it is a Leptokurtic.\n",
    "* The tail is long and the central peak is taller and sharper"
   ]
  },
  {
   "cell_type": "markdown",
   "id": "959ed757",
   "metadata": {},
   "source": [
    "## 2. Boxplot for AMCAT_Score"
   ]
  },
  {
   "cell_type": "code",
   "execution_count": 28,
   "id": "8255c07c",
   "metadata": {},
   "outputs": [
    {
     "data": {
      "image/png": "[encoded data removed]"
     },
     "metadata": {},
     "output_type": "display_data"
    }
   ],
   "source": [
    "fig2 = px.box(df1,x='AMCAT_Score',color=' ',color_discrete_map={\n",
    "                \" \": \"orange\"},height=400)\n",
    "fig2.update_layout(plot_bgcolor='black',showlegend=False)\n",
    "\n",
    "fig2.update_xaxes(showgrid=False)\n",
    "fig2.update_yaxes(showgrid=False)\n",
    "fig2.show('png')"
   ]
  },
  {
   "cell_type": "markdown",
   "id": "a1c06480",
   "metadata": {},
   "source": [
    "#### Observation:\n",
    "* The highest score in AMCAT is 1684.\n",
    "* The median score is 585."
   ]
  },
  {
   "cell_type": "code",
   "execution_count": 29,
   "id": "4d9cf3e1",
   "metadata": {},
   "outputs": [
    {
     "name": "stdout",
     "output_type": "stream",
     "text": [
      "% of employees having more than average AMCAT_Score:  44.33815925542916\n"
     ]
    }
   ],
   "source": [
    "morethan_average('AMCAT_Score')"
   ]
  },
  {
   "cell_type": "markdown",
   "id": "ad90d50f",
   "metadata": {},
   "source": [
    "#### Measure of Central Tendency"
   ]
  },
  {
   "cell_type": "code",
   "execution_count": 30,
   "id": "a8147bfc",
   "metadata": {},
   "outputs": [
    {
     "name": "stdout",
     "output_type": "stream",
     "text": [
      "Mean(Average) for AMCAT_Score is:         639.4570837642192\n",
      "Median for AMCAT_Score is:                585.0\n",
      "Mode(Mostly repeated) for AMCAT_Score is: 435.0\n"
     ]
    }
   ],
   "source": [
    "central_tendency('AMCAT_Score')"
   ]
  },
  {
   "cell_type": "markdown",
   "id": "99e001e7",
   "metadata": {},
   "source": [
    "#### Measure of Spread"
   ]
  },
  {
   "cell_type": "code",
   "execution_count": 31,
   "id": "ea7a704f",
   "metadata": {},
   "outputs": [
    {
     "name": "stdout",
     "output_type": "stream",
     "text": [
      "The Range is:                 1551.0\n",
      "The Quartiles Q1, Q2, Q3 are: (445.0,585.0,815.0)\n",
      "The Inter-Quartile Range is   370.0\n",
      "The Lower and Upper Bound is: (-110.0,1370.0)\n",
      "Variance is:                  61545.6167250853\n",
      "Standard Deviation is:        248.08389049893043\n"
     ]
    }
   ],
   "source": [
    "spread('AMCAT_Score')"
   ]
  },
  {
   "cell_type": "markdown",
   "id": "c60d0764",
   "metadata": {},
   "source": [
    "#### Measures of Shape\n"
   ]
  },
  {
   "cell_type": "code",
   "execution_count": 32,
   "id": "ccce6032",
   "metadata": {},
   "outputs": [
    {
     "data": {
      "text/plain": [
       "0.6510910621150946"
      ]
     },
     "execution_count": 32,
     "metadata": {},
     "output_type": "execute_result"
    }
   ],
   "source": [
    "df['AMCAT_Score'].skew()"
   ]
  },
  {
   "cell_type": "markdown",
   "id": "49d931d6",
   "metadata": {},
   "source": [
    "* The skewness for AMCAT_Score is 0.65 which lies in between 0.5 and 1.\n",
    "* Hence the distribution is moderately skewed."
   ]
  },
  {
   "cell_type": "code",
   "execution_count": 33,
   "id": "428451a9",
   "metadata": {},
   "outputs": [
    {
     "data": {
      "text/plain": [
       "0.003976783098158521"
      ]
     },
     "execution_count": 33,
     "metadata": {},
     "output_type": "execute_result"
    }
   ],
   "source": [
    "df['AMCAT_Score'].kurt()"
   ]
  },
  {
   "cell_type": "markdown",
   "id": "d7ba84d0",
   "metadata": {},
   "source": [
    "* The Kurtosis for Amcat Score is 0.0039 which is less than 3.\n",
    "* Hence it is a Platykurtic.\n",
    "* The distribution produces fewer and less extreme outliers than does the normal distribution.\n",
    "* Compared to a Normal distribution, the tails are shorter and central peak is lower and broader"
   ]
  },
  {
   "cell_type": "markdown",
   "id": "c91bc3ba",
   "metadata": {},
   "source": [
    "## 3. Boxplot for AGE"
   ]
  },
  {
   "cell_type": "code",
   "execution_count": 34,
   "id": "2042dece",
   "metadata": {},
   "outputs": [],
   "source": [
    "df['Current Year'] = datetime.datetime.now().year"
   ]
  },
  {
   "cell_type": "code",
   "execution_count": 35,
   "id": "205d8700",
   "metadata": {},
   "outputs": [],
   "source": [
    "df['Age'] = df['Current Year'] - df['Birth_Year']"
   ]
  },
  {
   "cell_type": "code",
   "execution_count": 36,
   "id": "72889425",
   "metadata": {},
   "outputs": [
    {
     "data": {
      "image/png": "[encoded data removed]"
     },
     "metadata": {},
     "output_type": "display_data"
    }
   ],
   "source": [
    "fig3 = px.box(df1,x='Age',color=' ',color_discrete_map={\n",
    "                \" \": \"cyan\"},height=400)\n",
    "fig3.update_layout(plot_bgcolor='black',showlegend=False)\n",
    "\n",
    "fig3.update_xaxes(showgrid=False)\n",
    "fig3.update_yaxes(showgrid=False)\n",
    "fig3.show('png')"
   ]
  },
  {
   "cell_type": "code",
   "execution_count": 37,
   "id": "a1afde9c",
   "metadata": {},
   "outputs": [
    {
     "name": "stdout",
     "output_type": "stream",
     "text": [
      "% of employees having more than average Age:  45.81178903826267\n"
     ]
    }
   ],
   "source": [
    "morethan_average('Age')"
   ]
  },
  {
   "cell_type": "markdown",
   "id": "f460a858",
   "metadata": {},
   "source": [
    "#### Observation:\n",
    "* The max employee age is 44\n",
    "* The median Age is 30"
   ]
  },
  {
   "cell_type": "markdown",
   "id": "7f56a68d",
   "metadata": {},
   "source": [
    "#### Measure of Central Tendency"
   ]
  },
  {
   "cell_type": "code",
   "execution_count": 38,
   "id": "01acd329",
   "metadata": {},
   "outputs": [
    {
     "name": "stdout",
     "output_type": "stream",
     "text": [
      "Mean(Average) for Age is:         30.574974146845914\n",
      "Median for Age is:                30.0\n",
      "Mode(Mostly repeated) for Age is: 30\n"
     ]
    }
   ],
   "source": [
    "central_tendency('Age')"
   ]
  },
  {
   "cell_type": "markdown",
   "id": "9cc9d5e1",
   "metadata": {},
   "source": [
    "#### Measure of Spread"
   ]
  },
  {
   "cell_type": "code",
   "execution_count": 39,
   "id": "f7169d84",
   "metadata": {},
   "outputs": [
    {
     "name": "stdout",
     "output_type": "stream",
     "text": [
      "The Range is:                 20\n",
      "The Quartiles Q1, Q2, Q3 are: (29.0,30.0,32.0)\n",
      "The Inter-Quartile Range is   3.0\n",
      "The Lower and Upper Bound is: (24.5,36.5)\n",
      "Variance is:                  3.117470260515822\n",
      "Standard Deviation is:        1.765635936572379\n"
     ]
    }
   ],
   "source": [
    "spread('Age')"
   ]
  },
  {
   "cell_type": "markdown",
   "id": "3e7902fa",
   "metadata": {},
   "source": [
    "#### Measure of Shape"
   ]
  },
  {
   "cell_type": "code",
   "execution_count": 40,
   "id": "418a0882",
   "metadata": {},
   "outputs": [
    {
     "data": {
      "text/plain": [
       "0.8885119420216195"
      ]
     },
     "execution_count": 40,
     "metadata": {},
     "output_type": "execute_result"
    }
   ],
   "source": [
    "df['Age'].skew()"
   ]
  },
  {
   "cell_type": "markdown",
   "id": "c28f9a11",
   "metadata": {},
   "source": [
    "* The skewness for Age is 0.88 which is between 0.5 than 1\n",
    "* The distribution is moderately skewed"
   ]
  },
  {
   "cell_type": "code",
   "execution_count": 41,
   "id": "54753110",
   "metadata": {},
   "outputs": [
    {
     "data": {
      "text/plain": [
       "1.827407487815286"
      ]
     },
     "execution_count": 41,
     "metadata": {},
     "output_type": "execute_result"
    }
   ],
   "source": [
    "df['Age'].kurt()"
   ]
  },
  {
   "cell_type": "markdown",
   "id": "4efe111e",
   "metadata": {},
   "source": [
    "* The Kurtosis for Age is 1.82 which is less than 3.\n",
    "* Hence it is a Playtkurtic.\n",
    "* The distribution produces fewer and less extreme outliers than does the normal distribution.\n",
    "* Compared to a Normal distribution, the tails are shorter and central peak is lower and broader"
   ]
  },
  {
   "cell_type": "markdown",
   "id": "4aafdb3f",
   "metadata": {},
   "source": [
    "##  4. Distplot for 12th Percentage"
   ]
  },
  {
   "cell_type": "code",
   "execution_count": 42,
   "id": "4eab089f",
   "metadata": {},
   "outputs": [
    {
     "data": {
      "image/png": "[encoded data removed]"
     },
     "metadata": {},
     "output_type": "display_data"
    }
   ],
   "source": [
    "group_labels = ['12Percentage']\n",
    "fig_4 = ff.create_distplot([df['12percentage']],group_labels,colors=['deeppink'],show_rug=False,bin_size=[5])\n",
    "fig_4.update_layout(plot_bgcolor='black',showlegend=False,height=520)\n",
    "fig_4.update_xaxes(showgrid=False)\n",
    "fig_4.update_yaxes(showgrid=False,zeroline=False)\n",
    "fig_4.show('png')"
   ]
  },
  {
   "cell_type": "code",
   "execution_count": 43,
   "id": "f01946fc",
   "metadata": {},
   "outputs": [
    {
     "name": "stdout",
     "output_type": "stream",
     "text": [
      "% of employees having more than average 12percentage:  49.560496380558426\n"
     ]
    }
   ],
   "source": [
    "morethan_average('12percentage')"
   ]
  },
  {
   "cell_type": "markdown",
   "id": "c79dbdc1",
   "metadata": {},
   "source": [
    "#### Measure of Central Tendency"
   ]
  },
  {
   "cell_type": "code",
   "execution_count": 44,
   "id": "aa7c32ec",
   "metadata": {},
   "outputs": [
    {
     "name": "stdout",
     "output_type": "stream",
     "text": [
      "Mean(Average) for 12percentage is:         74.54227766287474\n",
      "Median for 12percentage is:                74.4\n",
      "Mode(Mostly repeated) for 12percentage is: 70.0\n"
     ]
    }
   ],
   "source": [
    "central_tendency('12percentage')"
   ]
  },
  {
   "cell_type": "markdown",
   "id": "97192fa6",
   "metadata": {},
   "source": [
    "#### Measure of Spread"
   ]
  },
  {
   "cell_type": "code",
   "execution_count": 45,
   "id": "40f4c4b5",
   "metadata": {},
   "outputs": [
    {
     "name": "stdout",
     "output_type": "stream",
     "text": [
      "The Range is:                 58.7\n",
      "The Quartiles Q1, Q2, Q3 are: (66.1925,74.4,82.615)\n",
      "The Inter-Quartile Range is   16.4225\n",
      "The Lower and Upper Bound is: (41.558749999999996,107.24875)\n",
      "Variance is:                  121.28684738396433\n",
      "Standard Deviation is:        11.01303079919258\n"
     ]
    }
   ],
   "source": [
    "spread('12percentage')"
   ]
  },
  {
   "cell_type": "markdown",
   "id": "21ea64a0",
   "metadata": {},
   "source": [
    "#### Measure of Shape"
   ]
  },
  {
   "cell_type": "code",
   "execution_count": 46,
   "id": "dcc0ce43",
   "metadata": {},
   "outputs": [
    {
     "data": {
      "text/plain": [
       "-0.6292284443799829"
      ]
     },
     "execution_count": 46,
     "metadata": {},
     "output_type": "execute_result"
    }
   ],
   "source": [
    "df['12percentage'].kurt()"
   ]
  },
  {
   "cell_type": "code",
   "execution_count": 47,
   "id": "0dedbae8",
   "metadata": {},
   "outputs": [
    {
     "data": {
      "text/plain": [
       "-0.034428390584072585"
      ]
     },
     "execution_count": 47,
     "metadata": {},
     "output_type": "execute_result"
    }
   ],
   "source": [
    "df['12percentage'].skew()"
   ]
  },
  {
   "cell_type": "markdown",
   "id": "08ebf930",
   "metadata": {},
   "source": [
    "#### Observation:\n",
    "* The skewness for 12th Percentage is -0.03 which is between -0.5 than 0.5\n",
    "* The distribution is approximately symentric\n",
    "\n",
    "* The Kurtosis for 12th Percentage is -0.62 which is less than 3.\n",
    "* Hence it is a Playtkurtic.\n",
    "* The distribution produces fewer and less extreme outliers than does the normal distribution."
   ]
  },
  {
   "cell_type": "markdown",
   "id": "6ea6967c",
   "metadata": {},
   "source": [
    "## 5. Distplot for 10th Percentage"
   ]
  },
  {
   "cell_type": "code",
   "execution_count": 48,
   "id": "3e726098",
   "metadata": {
    "scrolled": false
   },
   "outputs": [
    {
     "data": {
      "image/png": "[encoded data removed]"
     },
     "metadata": {},
     "output_type": "display_data"
    }
   ],
   "source": [
    "group_labels = ['10Percentage']\n",
    "fig_5 = ff.create_distplot([df['10percentage']],group_labels,colors=['lightskyblue'],show_rug=False,bin_size=[3])\n",
    "fig_5.update_layout(plot_bgcolor='black',showlegend=False,height=530)\n",
    "fig_5.update_xaxes(showgrid=False,zeroline=False)\n",
    "fig_5.update_yaxes(showgrid=False,zeroline=False)\n",
    "fig_5.show('png')"
   ]
  },
  {
   "cell_type": "code",
   "execution_count": 49,
   "id": "2e8bbac2",
   "metadata": {},
   "outputs": [
    {
     "name": "stdout",
     "output_type": "stream",
     "text": [
      "% of employees having more than average 10percentage:  55.42916235780765\n"
     ]
    }
   ],
   "source": [
    "morethan_average('10percentage')"
   ]
  },
  {
   "cell_type": "markdown",
   "id": "d9c78965",
   "metadata": {},
   "source": [
    "#### Measure of Central Tendency"
   ]
  },
  {
   "cell_type": "code",
   "execution_count": 50,
   "id": "7f463f46",
   "metadata": {},
   "outputs": [
    {
     "name": "stdout",
     "output_type": "stream",
     "text": [
      "Mean(Average) for 10percentage is:         77.96168821096173\n",
      "Median for 10percentage is:                79.2\n",
      "Mode(Mostly repeated) for 10percentage is: 78.0\n"
     ]
    }
   ],
   "source": [
    "central_tendency('10percentage')"
   ]
  },
  {
   "cell_type": "markdown",
   "id": "59a97e1d",
   "metadata": {},
   "source": [
    "#### Measure of Spread"
   ]
  },
  {
   "cell_type": "code",
   "execution_count": 51,
   "id": "0b5fe50d",
   "metadata": {},
   "outputs": [
    {
     "name": "stdout",
     "output_type": "stream",
     "text": [
      "The Range is:                 54.760000000000005\n",
      "The Quartiles Q1, Q2, Q3 are: (71.8,79.2,85.76)\n",
      "The Inter-Quartile Range is   13.960000000000008\n",
      "The Lower and Upper Bound is: (50.859999999999985,106.70000000000002)\n",
      "Variance is:                  96.98732357796287\n",
      "Standard Deviation is:        9.848214232944105\n"
     ]
    }
   ],
   "source": [
    "spread('10percentage')"
   ]
  },
  {
   "cell_type": "markdown",
   "id": "5352231f",
   "metadata": {},
   "source": [
    "#### Measure of shape"
   ]
  },
  {
   "cell_type": "code",
   "execution_count": 52,
   "id": "73fe405a",
   "metadata": {},
   "outputs": [
    {
     "data": {
      "text/plain": [
       "-0.10923414870996373"
      ]
     },
     "execution_count": 52,
     "metadata": {},
     "output_type": "execute_result"
    }
   ],
   "source": [
    "df['10percentage'].kurt()"
   ]
  },
  {
   "cell_type": "code",
   "execution_count": 53,
   "id": "e4eb5f57",
   "metadata": {},
   "outputs": [
    {
     "data": {
      "text/plain": [
       "-0.5908641506712584"
      ]
     },
     "execution_count": 53,
     "metadata": {},
     "output_type": "execute_result"
    }
   ],
   "source": [
    "df['10percentage'].skew()"
   ]
  },
  {
   "cell_type": "markdown",
   "id": "d122f1ae",
   "metadata": {},
   "source": [
    "#### Observation:\n",
    "* The skewness for 10th Percentage is -0.59 which is between -1 than -0.5\n",
    "* The distribution is moderately skewed\n",
    "\n",
    "* The Kurtosis for 10th Percentage is -0.1 which is less than 3.\n",
    "* Hence it is a Playtkurtic.\n",
    "* The distribution produces fewer and less extreme outliers than does the normal distribution."
   ]
  },
  {
   "cell_type": "markdown",
   "id": "da9ff3f0",
   "metadata": {},
   "source": [
    "## 6. Distplot for Graduation GPA"
   ]
  },
  {
   "cell_type": "code",
   "execution_count": 54,
   "id": "22f83e63",
   "metadata": {},
   "outputs": [
    {
     "data": {
      "image/png": "[encoded data removed]"
     },
     "metadata": {},
     "output_type": "display_data"
    }
   ],
   "source": [
    "group_labels = ['Graduation GPA']\n",
    "fig6 = ff.create_distplot([df['collegeGPA']],group_labels,colors=['lightgreen'],show_rug=False,bin_size=[3])\n",
    "fig6.update_layout(plot_bgcolor='black',showlegend=False,height = 500)\n",
    "fig6.update_xaxes(showgrid=False)\n",
    "fig6.update_yaxes(showgrid=False,zeroline=False)\n",
    "fig6.show('png')"
   ]
  },
  {
   "cell_type": "code",
   "execution_count": 55,
   "id": "a565ae9c",
   "metadata": {},
   "outputs": [
    {
     "name": "stdout",
     "output_type": "stream",
     "text": [
      "% of employees having more than average collegeGPA:  50.90486039296794\n"
     ]
    }
   ],
   "source": [
    "morethan_average('collegeGPA')"
   ]
  },
  {
   "cell_type": "markdown",
   "id": "8a6136d9",
   "metadata": {},
   "source": [
    "#### Measure of Central Tendency"
   ]
  },
  {
   "cell_type": "code",
   "execution_count": 56,
   "id": "fd499808",
   "metadata": {},
   "outputs": [
    {
     "name": "stdout",
     "output_type": "stream",
     "text": [
      "Mean(Average) for collegeGPA is:         71.51590486039296\n",
      "Median for collegeGPA is:                71.8\n",
      "Mode(Mostly repeated) for collegeGPA is: 70.0\n"
     ]
    }
   ],
   "source": [
    "central_tendency('collegeGPA')"
   ]
  },
  {
   "cell_type": "markdown",
   "id": "85da7791",
   "metadata": {},
   "source": [
    "#### Measure of Spread"
   ]
  },
  {
   "cell_type": "code",
   "execution_count": 57,
   "id": "6451adbd",
   "metadata": {},
   "outputs": [
    {
     "name": "stdout",
     "output_type": "stream",
     "text": [
      "The Range is:                 93.48\n",
      "The Quartiles Q1, Q2, Q3 are: (66.5575,71.8,76.3375)\n",
      "The Inter-Quartile Range is   9.780000000000001\n",
      "The Lower and Upper Bound is: (51.8875,91.00750000000001)\n",
      "Variance is:                  67.00151009386828\n",
      "Standard Deviation is:        8.185445015017098\n"
     ]
    }
   ],
   "source": [
    "spread('collegeGPA')"
   ]
  },
  {
   "cell_type": "markdown",
   "id": "fc22266b",
   "metadata": {},
   "source": [
    "#### Measure of Shape"
   ]
  },
  {
   "cell_type": "code",
   "execution_count": 58,
   "id": "9fd01e11",
   "metadata": {},
   "outputs": [
    {
     "data": {
      "text/plain": [
       "-1.2881293802139078"
      ]
     },
     "execution_count": 58,
     "metadata": {},
     "output_type": "execute_result"
    }
   ],
   "source": [
    "df['collegeGPA'].skew()"
   ]
  },
  {
   "cell_type": "code",
   "execution_count": 59,
   "id": "ea7eedce",
   "metadata": {},
   "outputs": [
    {
     "data": {
      "text/plain": [
       "10.515906691256337"
      ]
     },
     "execution_count": 59,
     "metadata": {},
     "output_type": "execute_result"
    }
   ],
   "source": [
    "df['collegeGPA'].kurt()"
   ]
  },
  {
   "cell_type": "markdown",
   "id": "02fb0f58",
   "metadata": {},
   "source": [
    "#### Observation:\n",
    "* The skewness for GPA is -1.288 which is less than -1\n",
    "* The distribution is highly negative skewed.\n",
    "* The Kurtosis for GPA is 10.51 which is greater than 3.\n",
    "* Hence it is a Leptokurtic.\n",
    "* They produces more outliers than the normal distribution\n"
   ]
  },
  {
   "cell_type": "markdown",
   "id": "06bc02ba",
   "metadata": {},
   "source": [
    "## 7. Violin Plot for English Score"
   ]
  },
  {
   "cell_type": "code",
   "execution_count": 60,
   "id": "ea99b37d",
   "metadata": {},
   "outputs": [
    {
     "data": {
      "image/png": "[encoded data removed]"
     },
     "metadata": {},
     "output_type": "display_data"
    }
   ],
   "source": [
    "fig7 = px.violin(df1,x='English',color=' ',color_discrete_map={\n",
    "                \" \": \"white\"})\n",
    "fig7.update_layout(plot_bgcolor='black',showlegend=False,height=475)\n",
    "\n",
    "fig7.update_xaxes(showgrid=False)\n",
    "fig7.update_yaxes(showgrid=False)\n",
    "fig7.show('png')"
   ]
  },
  {
   "cell_type": "code",
   "execution_count": 61,
   "id": "d15cbffa",
   "metadata": {},
   "outputs": [
    {
     "name": "stdout",
     "output_type": "stream",
     "text": [
      "% of employees having more than average English:  48.526370217166495\n"
     ]
    }
   ],
   "source": [
    "morethan_average('English')"
   ]
  },
  {
   "cell_type": "markdown",
   "id": "478c5014",
   "metadata": {},
   "source": [
    "#### Measure of Central Tendency"
   ]
  },
  {
   "cell_type": "code",
   "execution_count": 62,
   "id": "9d3cd86c",
   "metadata": {},
   "outputs": [
    {
     "name": "stdout",
     "output_type": "stream",
     "text": [
      "Mean(Average) for English is:         501.6476215098242\n",
      "Median for English is:                500.0\n",
      "Mode(Mostly repeated) for English is: 475\n"
     ]
    }
   ],
   "source": [
    "central_tendency('English')"
   ]
  },
  {
   "cell_type": "markdown",
   "id": "6df4890b",
   "metadata": {},
   "source": [
    "#### Measure of Spread"
   ]
  },
  {
   "cell_type": "code",
   "execution_count": 63,
   "id": "ad416d81",
   "metadata": {},
   "outputs": [
    {
     "name": "stdout",
     "output_type": "stream",
     "text": [
      "The Range is:                 695\n",
      "The Quartiles Q1, Q2, Q3 are: (425.0,500.0,570.0)\n",
      "The Inter-Quartile Range is   145.0\n",
      "The Lower and Upper Bound is: (207.5,787.5)\n",
      "Variance is:                  11008.602717382439\n",
      "Standard Deviation is:        104.92188864761461\n"
     ]
    }
   ],
   "source": [
    "spread('English')"
   ]
  },
  {
   "cell_type": "markdown",
   "id": "a5b4e9b9",
   "metadata": {},
   "source": [
    "#### Measure of Shape"
   ]
  },
  {
   "cell_type": "code",
   "execution_count": 64,
   "id": "c55c4f36",
   "metadata": {},
   "outputs": [
    {
     "data": {
      "text/plain": [
       "0.19687109849309445"
      ]
     },
     "execution_count": 64,
     "metadata": {},
     "output_type": "execute_result"
    }
   ],
   "source": [
    "df['English'].skew()"
   ]
  },
  {
   "cell_type": "code",
   "execution_count": 65,
   "id": "4282e344",
   "metadata": {},
   "outputs": [
    {
     "data": {
      "text/plain": [
       "-0.24063281760978406"
      ]
     },
     "execution_count": 65,
     "metadata": {},
     "output_type": "execute_result"
    }
   ],
   "source": [
    "df['English'].kurt()"
   ]
  },
  {
   "cell_type": "markdown",
   "id": "fd33715e",
   "metadata": {},
   "source": [
    "#### Observation:\n",
    "* The skewness for English Score is 0.19 which is  between -0.5 and 0.5\n",
    "* The distribution is approximately Symentric.\n",
    "* The Kurtosis for English Score is -0.24 which is less than 3.\n",
    "* Hence it is a Platykurtic.\n",
    "* The distribution produces fewer and less extreme outliers than does the normal distribution."
   ]
  },
  {
   "cell_type": "markdown",
   "id": "ef42d781",
   "metadata": {},
   "source": [
    "## 8. Violin Plot for Logical Score"
   ]
  },
  {
   "cell_type": "code",
   "execution_count": 66,
   "id": "c31d1591",
   "metadata": {},
   "outputs": [
    {
     "data": {
      "image/png": "[encoded data removed]"
     },
     "metadata": {},
     "output_type": "display_data"
    }
   ],
   "source": [
    "fig8 = px.violin(df1,x='Logical',color=' ',color_discrete_map={\n",
    "                \" \": \"gold\"})\n",
    "fig8.update_layout(plot_bgcolor='black',showlegend=False,height=475)\n",
    "\n",
    "fig8.update_xaxes(showgrid=False)\n",
    "fig8.update_yaxes(showgrid=False)\n",
    "fig8.show('png')"
   ]
  },
  {
   "cell_type": "code",
   "execution_count": 67,
   "id": "6e406fae",
   "metadata": {},
   "outputs": [
    {
     "name": "stdout",
     "output_type": "stream",
     "text": [
      "% of employees having more than average Logical:  51.654601861427096\n"
     ]
    }
   ],
   "source": [
    "morethan_average('Logical')"
   ]
  },
  {
   "cell_type": "markdown",
   "id": "8204cf96",
   "metadata": {},
   "source": [
    "#### Measure of Central Tendency"
   ]
  },
  {
   "cell_type": "code",
   "execution_count": 68,
   "id": "85156991",
   "metadata": {},
   "outputs": [
    {
     "name": "stdout",
     "output_type": "stream",
     "text": [
      "Mean(Average) for Logical is:         502.07549120992763\n",
      "Median for Logical is:                505.0\n",
      "Mode(Mostly repeated) for Logical is: 495\n"
     ]
    }
   ],
   "source": [
    "central_tendency('Logical')"
   ]
  },
  {
   "cell_type": "markdown",
   "id": "4c0a4a0c",
   "metadata": {},
   "source": [
    "#### Measure of Spread"
   ]
  },
  {
   "cell_type": "code",
   "execution_count": 69,
   "id": "e7e25ac0",
   "metadata": {},
   "outputs": [
    {
     "name": "stdout",
     "output_type": "stream",
     "text": [
      "The Range is:                 600\n",
      "The Quartiles Q1, Q2, Q3 are: (445.0,505.0,565.0)\n",
      "The Inter-Quartile Range is   120.0\n",
      "The Lower and Upper Bound is: (265.0,745.0)\n",
      "Variance is:                  7518.445812404112\n",
      "Standard Deviation is:        86.70897192565549\n"
     ]
    }
   ],
   "source": [
    "spread('Logical')"
   ]
  },
  {
   "cell_type": "markdown",
   "id": "560cd134",
   "metadata": {},
   "source": [
    "#### Measure of Shape"
   ]
  },
  {
   "cell_type": "code",
   "execution_count": 70,
   "id": "7ae520b0",
   "metadata": {},
   "outputs": [
    {
     "data": {
      "text/plain": [
       "-0.21672449625886228"
      ]
     },
     "execution_count": 70,
     "metadata": {},
     "output_type": "execute_result"
    }
   ],
   "source": [
    "df['Logical'].skew()"
   ]
  },
  {
   "cell_type": "code",
   "execution_count": 71,
   "id": "2f7873c3",
   "metadata": {},
   "outputs": [
    {
     "data": {
      "text/plain": [
       "-0.25173761404451733"
      ]
     },
     "execution_count": 71,
     "metadata": {},
     "output_type": "execute_result"
    }
   ],
   "source": [
    "df['Logical'].kurt()"
   ]
  },
  {
   "cell_type": "markdown",
   "id": "c477c8f4",
   "metadata": {},
   "source": [
    "#### Observation:\n",
    "* The skewness for logical Score is -0.21 which is  between -0.5 and 0.5\n",
    "* The distribution is approximately Symentric.\n",
    "* The Kurtosis for Logical Score is -0.25 which is less than 3.\n",
    "* Hence it is a Platykurtic.\n",
    "* The distribution produces fewer and less extreme outliers than does the normal distribution."
   ]
  },
  {
   "cell_type": "markdown",
   "id": "4505918c",
   "metadata": {},
   "source": [
    "## 9. Violin Plot for Quant Score"
   ]
  },
  {
   "cell_type": "code",
   "execution_count": 72,
   "id": "fed936b1",
   "metadata": {},
   "outputs": [
    {
     "data": {
      "image/png": "[encoded data removed]"
     },
     "metadata": {},
     "output_type": "display_data"
    }
   ],
   "source": [
    "fig9 = px.violin(df1,x='Quant',color=' ',color_discrete_map={\n",
    "                \" \": \"black\"})\n",
    "fig9.update_layout(plot_bgcolor='snow',showlegend=False,height=475)\n",
    "\n",
    "fig9.update_xaxes(showgrid=False)\n",
    "fig9.update_yaxes(showgrid=False)\n",
    "fig9.show('png')"
   ]
  },
  {
   "cell_type": "code",
   "execution_count": 73,
   "id": "dadc15cb",
   "metadata": {},
   "outputs": [
    {
     "name": "stdout",
     "output_type": "stream",
     "text": [
      "% of employees having more than average Quant:  51.83557394002069\n"
     ]
    }
   ],
   "source": [
    "morethan_average('Quant')"
   ]
  },
  {
   "cell_type": "markdown",
   "id": "37d2aca2",
   "metadata": {},
   "source": [
    "#### Measure of Central Tendency"
   ]
  },
  {
   "cell_type": "code",
   "execution_count": 74,
   "id": "9fc79b46",
   "metadata": {},
   "outputs": [
    {
     "name": "stdout",
     "output_type": "stream",
     "text": [
      "Mean(Average) for Quant is:         514.4607032057911\n",
      "Median for Quant is:                515.0\n",
      "Mode(Mostly repeated) for Quant is: 605\n"
     ]
    }
   ],
   "source": [
    "central_tendency('Quant')"
   ]
  },
  {
   "cell_type": "markdown",
   "id": "2baf8958",
   "metadata": {},
   "source": [
    "#### Measure of Spread"
   ]
  },
  {
   "cell_type": "code",
   "execution_count": 75,
   "id": "7863e6af",
   "metadata": {},
   "outputs": [
    {
     "name": "stdout",
     "output_type": "stream",
     "text": [
      "The Range is:                 780\n",
      "The Quartiles Q1, Q2, Q3 are: (430.0,515.0,605.0)\n",
      "The Inter-Quartile Range is   175.0\n",
      "The Lower and Upper Bound is: (167.5,867.5)\n",
      "Variance is:                  15010.768302789573\n",
      "Standard Deviation is:        122.5184406642101\n"
     ]
    }
   ],
   "source": [
    "spread('Quant')"
   ]
  },
  {
   "cell_type": "markdown",
   "id": "55571169",
   "metadata": {},
   "source": [
    "#### Measure of Shape"
   ]
  },
  {
   "cell_type": "code",
   "execution_count": 76,
   "id": "2d0a7a2f",
   "metadata": {},
   "outputs": [
    {
     "data": {
      "text/plain": [
       "-0.03370951464851897"
      ]
     },
     "execution_count": 76,
     "metadata": {},
     "output_type": "execute_result"
    }
   ],
   "source": [
    "df['Quant'].skew()"
   ]
  },
  {
   "cell_type": "code",
   "execution_count": 77,
   "id": "08c8a434",
   "metadata": {},
   "outputs": [
    {
     "data": {
      "text/plain": [
       "-0.09368341239560563"
      ]
     },
     "execution_count": 77,
     "metadata": {},
     "output_type": "execute_result"
    }
   ],
   "source": [
    "df['Quant'].kurt()"
   ]
  },
  {
   "cell_type": "markdown",
   "id": "5b07c7a2",
   "metadata": {},
   "source": [
    "#### Observation:\n",
    "* The skewness for Quant Score is -0.03 which is  between -0.5 and 0.5\n",
    "* The distribution is approximately Symentric.\n",
    "* The Kurtosis for Quant Score is -0.09 which is less than 3.\n",
    "* Hence it is a Platykurtic.\n",
    "* The distribution produces fewer and less extreme outliers than does the normal distribution."
   ]
  },
  {
   "cell_type": "markdown",
   "id": "052db72c",
   "metadata": {},
   "source": [
    "## 10. Histogram for Openness to Experience"
   ]
  },
  {
   "cell_type": "code",
   "execution_count": 78,
   "id": "ead60193",
   "metadata": {},
   "outputs": [
    {
     "data": {
      "image/png": "[encoded data removed]"
     },
     "metadata": {},
     "output_type": "display_data"
    }
   ],
   "source": [
    "fig10 = px.histogram(df1,x='openess_to_experience',color=' ',color_discrete_map={\n",
    "                \" \": \"black\"})\n",
    "fig10.update_layout(plot_bgcolor='snow',showlegend=False,height=475)\n",
    "\n",
    "fig10.update_xaxes(showgrid=False)\n",
    "fig10.update_yaxes(showgrid=False)\n",
    "fig10.show('png')"
   ]
  },
  {
   "cell_type": "code",
   "execution_count": 79,
   "id": "394c7e8f",
   "metadata": {},
   "outputs": [
    {
     "name": "stdout",
     "output_type": "stream",
     "text": [
      "% of employees having more than average openess_to_experience:  57.44570837642192\n"
     ]
    }
   ],
   "source": [
    "morethan_average('openess_to_experience')"
   ]
  },
  {
   "cell_type": "markdown",
   "id": "706c039e",
   "metadata": {},
   "source": [
    "#### Measure of Central Tendency"
   ]
  },
  {
   "cell_type": "code",
   "execution_count": 80,
   "id": "43ca1ff3",
   "metadata": {},
   "outputs": [
    {
     "name": "stdout",
     "output_type": "stream",
     "text": [
      "Mean(Average) for openess_to_experience is:         -0.13796137538779596\n",
      "Median for openess_to_experience is:                -0.0943\n",
      "Mode(Mostly repeated) for openess_to_experience is: -0.0943\n"
     ]
    }
   ],
   "source": [
    "central_tendency('openess_to_experience')"
   ]
  },
  {
   "cell_type": "markdown",
   "id": "17b45c60",
   "metadata": {},
   "source": [
    "#### Measure of Spread"
   ]
  },
  {
   "cell_type": "code",
   "execution_count": 81,
   "id": "6373aaec",
   "metadata": {},
   "outputs": [
    {
     "name": "stdout",
     "output_type": "stream",
     "text": [
      "The Range is:                 9.0059\n",
      "The Quartiles Q1, Q2, Q3 are: (-0.6692,-0.0943,0.5024)\n",
      "The Inter-Quartile Range is   1.1716\n",
      "The Lower and Upper Bound is: (-2.4266,2.2598000000000003)\n",
      "Variance is:                  1.0242062156114515\n",
      "Standard Deviation is:        1.0120307384716394\n"
     ]
    }
   ],
   "source": [
    "spread('openess_to_experience')"
   ]
  },
  {
   "cell_type": "markdown",
   "id": "7da7714d",
   "metadata": {},
   "source": [
    "#### Measure of Shape"
   ]
  },
  {
   "cell_type": "code",
   "execution_count": 82,
   "id": "798248ef",
   "metadata": {},
   "outputs": [
    {
     "data": {
      "text/plain": [
       "-1.5242150220181359"
      ]
     },
     "execution_count": 82,
     "metadata": {},
     "output_type": "execute_result"
    }
   ],
   "source": [
    "df['openess_to_experience'].skew()"
   ]
  },
  {
   "cell_type": "code",
   "execution_count": 83,
   "id": "2d073a27",
   "metadata": {},
   "outputs": [
    {
     "data": {
      "text/plain": [
       "5.870470744577276"
      ]
     },
     "execution_count": 83,
     "metadata": {},
     "output_type": "execute_result"
    }
   ],
   "source": [
    "df['openess_to_experience'].kurt()"
   ]
  },
  {
   "cell_type": "markdown",
   "id": "dfacc273",
   "metadata": {},
   "source": [
    "#### Observation:\n",
    "* The skewness for Openess to Experience is -1.53 which is  less than -1\n",
    "* The distribution is Highly Negative Skewed.\n",
    "* The Kurtosis for Openess to Experience is 5.87 which is greater than 3.\n",
    "* Hence it is a Leptokurtic, where tails are longer and central peak is taller and sharper."
   ]
  },
  {
   "cell_type": "markdown",
   "id": "1d9c489d",
   "metadata": {},
   "source": [
    "## 11. Histogram for conscientiousness"
   ]
  },
  {
   "cell_type": "code",
   "execution_count": 84,
   "id": "58507302",
   "metadata": {},
   "outputs": [
    {
     "data": {
      "image/png": "[encoded data removed]"
     },
     "metadata": {},
     "output_type": "display_data"
    }
   ],
   "source": [
    "fig11 = px.histogram(df1,x='conscientiousness',color=' ',color_discrete_map={\n",
    "                \" \": \"crimson\"})\n",
    "fig11.update_layout(plot_bgcolor='#555555',showlegend=False,height=475)\n",
    "\n",
    "fig11.update_xaxes(showgrid=False)\n",
    "fig11.update_yaxes(showgrid=False)\n",
    "fig11.show('png')"
   ]
  },
  {
   "cell_type": "code",
   "execution_count": 85,
   "id": "4bbc161b",
   "metadata": {},
   "outputs": [
    {
     "name": "stdout",
     "output_type": "stream",
     "text": [
      "% of employees having more than average conscientiousness:  54.05894519131335\n"
     ]
    }
   ],
   "source": [
    "morethan_average('conscientiousness')"
   ]
  },
  {
   "cell_type": "markdown",
   "id": "f041c9e1",
   "metadata": {},
   "source": [
    "#### Measure of Central Tendency"
   ]
  },
  {
   "cell_type": "code",
   "execution_count": 86,
   "id": "4e7c51df",
   "metadata": {},
   "outputs": [
    {
     "name": "stdout",
     "output_type": "stream",
     "text": [
      "Mean(Average) for conscientiousness is:         -0.03838552223371267\n",
      "Median for conscientiousness is:                0.0464\n",
      "Mode(Mostly repeated) for conscientiousness is: 0.2718\n"
     ]
    }
   ],
   "source": [
    "central_tendency('conscientiousness')"
   ]
  },
  {
   "cell_type": "markdown",
   "id": "a5aa7296",
   "metadata": {},
   "source": [
    "#### Meassure of Spread"
   ]
  },
  {
   "cell_type": "code",
   "execution_count": 87,
   "id": "eeb6bf29",
   "metadata": {},
   "outputs": [
    {
     "name": "stdout",
     "output_type": "stream",
     "text": [
      "The Range is:                 6.122\n",
      "The Quartiles Q1, Q2, Q3 are: (-0.6555500000000001,0.0464,0.7027)\n",
      "The Inter-Quartile Range is   1.35825\n",
      "The Lower and Upper Bound is: (-2.692925,2.740075)\n",
      "Variance is:                  1.0578350777422405\n",
      "Standard Deviation is:        1.0285110975299394\n"
     ]
    }
   ],
   "source": [
    "spread('conscientiousness')"
   ]
  },
  {
   "cell_type": "markdown",
   "id": "d634c2f6",
   "metadata": {},
   "source": [
    "#### Measure of Shape"
   ]
  },
  {
   "cell_type": "code",
   "execution_count": 88,
   "id": "9a16dcb3",
   "metadata": {},
   "outputs": [
    {
     "data": {
      "text/plain": [
       "-0.5219836268534231"
      ]
     },
     "execution_count": 88,
     "metadata": {},
     "output_type": "execute_result"
    }
   ],
   "source": [
    "df['conscientiousness'].skew()"
   ]
  },
  {
   "cell_type": "code",
   "execution_count": 89,
   "id": "164e0369",
   "metadata": {},
   "outputs": [
    {
     "data": {
      "text/plain": [
       "0.11090727869107564"
      ]
     },
     "execution_count": 89,
     "metadata": {},
     "output_type": "execute_result"
    }
   ],
   "source": [
    "df['conscientiousness'].kurt()"
   ]
  },
  {
   "cell_type": "markdown",
   "id": "c544bc17",
   "metadata": {},
   "source": [
    "#### Observation:\n",
    "* The skewness for conscientiousness is -0.52 which is between -1 and -0.5\n",
    "* The distribution is moderately Negative Skewed.\n",
    "* The Kurtosis for conscientiousness is 0.11 which is less than 3.\n",
    "* Hence it is a Platykurtic, the tails are shorter and central peak is lower and broader\n",
    "* Distribution produces fewer and less extreme outliers than does the normal distribution.."
   ]
  },
  {
   "cell_type": "code",
   "execution_count": 90,
   "id": "53d3e4b9",
   "metadata": {},
   "outputs": [],
   "source": [
    "#AGE\n",
    "df['Age_group'] = pd.cut(df.Age, [0,20,30,40,50,60,100], labels =[\"<20\",\"20-30\",\"30-40\",\"40-50\",\"50-60\",\"60+\"])\n",
    "\n",
    "#SALARY\n",
    "df['Salary_group'] = pd.cut(df.Salary, [0,50000,100000,500000,1000000,2000000,4000000], \n",
    "                      labels =['<50000','50000-100000','100000-500000','500000-1000000','1000000-2000000','2000000-4000000'])\n",
    "\n",
    "#AMCAT_Score\n",
    "df['AMCAT_group'] = pd.cut(df['AMCAT_Score'],[0,250,500,1000,1250,1500,2000], \n",
    "                           labels =['<250','250-500','500-1000','1000-1250','1250-1500','1500-2000'])\n",
    "\n",
    "#Graduation_GPA\n",
    "df['GPA_group'] = pd.cut(df.collegeGPA, [0,50,60,70,80,90,100], labels =[\"<50\",\"50-60\",\"60-70\",\"70-80\",\"80-90\",\"90+\"])"
   ]
  },
  {
   "cell_type": "markdown",
   "id": "88564b90",
   "metadata": {},
   "source": [
    "##### Creating Bins for required columns"
   ]
  },
  {
   "cell_type": "code",
   "execution_count": 91,
   "id": "14b36d30",
   "metadata": {},
   "outputs": [
    {
     "data": {
      "text/plain": [
       "20-30    0.541882\n",
       "30-40    0.457859\n",
       "40-50    0.000259\n",
       "<20      0.000000\n",
       "50-60    0.000000\n",
       "60+      0.000000\n",
       "Name: Age_group, dtype: float64"
      ]
     },
     "execution_count": 91,
     "metadata": {},
     "output_type": "execute_result"
    }
   ],
   "source": [
    "df.Age_group.value_counts(normalize = True)"
   ]
  },
  {
   "cell_type": "markdown",
   "id": "f0ff0cf7",
   "metadata": {},
   "source": [
    "#### Observation\n",
    "- More than 50% of the employees are in the age group of 20-30\n",
    "- Around 99% of the employees are in the age group of 20-40"
   ]
  },
  {
   "cell_type": "code",
   "execution_count": 92,
   "id": "0f4bbea1",
   "metadata": {},
   "outputs": [
    {
     "data": {
      "text/plain": [
       "100000-500000      0.864529\n",
       "500000-1000000     0.070321\n",
       "50000-100000       0.052740\n",
       "1000000-2000000    0.006980\n",
       "<50000             0.003102\n",
       "2000000-4000000    0.002327\n",
       "Name: Salary_group, dtype: float64"
      ]
     },
     "execution_count": 92,
     "metadata": {},
     "output_type": "execute_result"
    }
   ],
   "source": [
    "df['Salary_group'].value_counts(normalize = True)"
   ]
  },
  {
   "cell_type": "markdown",
   "id": "31e0a789",
   "metadata": {},
   "source": [
    "#### Observation\n",
    "- More than 85% of the employees earns salary between 1 lakh to 5 lakhs."
   ]
  },
  {
   "cell_type": "code",
   "execution_count": 93,
   "id": "93abbecc",
   "metadata": {},
   "outputs": [
    {
     "data": {
      "text/plain": [
       "500-1000     0.548087\n",
       "250-500      0.347466\n",
       "1000-1250    0.075233\n",
       "<250         0.014219\n",
       "1250-1500    0.013185\n",
       "1500-2000    0.001810\n",
       "Name: AMCAT_group, dtype: float64"
      ]
     },
     "execution_count": 93,
     "metadata": {},
     "output_type": "execute_result"
    }
   ],
   "source": [
    "df['AMCAT_group'].value_counts(normalize = True)"
   ]
  },
  {
   "cell_type": "markdown",
   "id": "24794d65",
   "metadata": {},
   "source": [
    "#### Observation\n",
    "- More than 50% of the employees AMCAT score lies between 500-1000.\n",
    "- only 10% of the employees have scored more than 1000 in AMCAT"
   ]
  },
  {
   "cell_type": "code",
   "execution_count": 94,
   "id": "a55e5a2f",
   "metadata": {},
   "outputs": [
    {
     "data": {
      "text/plain": [
       "70-80    0.455016\n",
       "60-70    0.368666\n",
       "80-90    0.111686\n",
       "50-60    0.052223\n",
       "90+      0.008532\n",
       "<50      0.003878\n",
       "Name: GPA_group, dtype: float64"
      ]
     },
     "execution_count": 94,
     "metadata": {},
     "output_type": "execute_result"
    }
   ],
   "source": [
    "df['GPA_group'].value_counts(normalize = True)"
   ]
  },
  {
   "cell_type": "markdown",
   "id": "2f7be4fb",
   "metadata": {},
   "source": [
    "#### Observation\n",
    "- More than 85% of the employees have graduation GPA more than 60.\n",
    "- Only few i.e, around 0.8% of the employees have secured more than 90 GPA"
   ]
  },
  {
   "cell_type": "code",
   "execution_count": 95,
   "id": "58873215",
   "metadata": {},
   "outputs": [
    {
     "data": {
      "text/plain": [
       "m    0.760858\n",
       "f    0.239142\n",
       "Name: Gender, dtype: float64"
      ]
     },
     "execution_count": 95,
     "metadata": {},
     "output_type": "execute_result"
    }
   ],
   "source": [
    "df['Gender'].value_counts(normalize=True)"
   ]
  },
  {
   "cell_type": "markdown",
   "id": "1a232965",
   "metadata": {},
   "source": [
    "#### Observation\n",
    "- 76% of the employees are Male employees\n",
    "- 24% of the employees are Female employees"
   ]
  },
  {
   "cell_type": "code",
   "execution_count": 96,
   "id": "00b2af43",
   "metadata": {},
   "outputs": [],
   "source": [
    "# Creating Datasets based on gender\n",
    "df_M = df[df['Gender'] == 'm']\n",
    "df_F = df[df['Gender'] == 'f']"
   ]
  },
  {
   "cell_type": "markdown",
   "id": "6aab9153",
   "metadata": {},
   "source": [
    "## 12. Count of Employees Age"
   ]
  },
  {
   "cell_type": "code",
   "execution_count": 97,
   "id": "b7123bdb",
   "metadata": {},
   "outputs": [
    {
     "data": {
      "image/png": "[encoded data removed]"
     },
     "metadata": {},
     "output_type": "display_data"
    }
   ],
   "source": [
    "fig12 = px.histogram(df.dropna(),x='Age',color='Gender',color_discrete_map={\n",
    "                \"m\": \"cyan\",\n",
    "                \"f\": \"hotpink\"},nbins=41)\n",
    "fig12.update_layout(plot_bgcolor='black',height=550)\n",
    "fig12.update_yaxes(showgrid=False)\n",
    "fig12.show('png')"
   ]
  },
  {
   "cell_type": "code",
   "execution_count": 98,
   "id": "6926273b",
   "metadata": {},
   "outputs": [
    {
     "data": {
      "text/plain": [
       "30    0.245346\n",
       "29    0.213806\n",
       "31    0.193640\n",
       "32    0.129783\n",
       "33    0.077818\n",
       "28    0.074457\n",
       "34    0.029214\n",
       "35    0.015512\n",
       "27    0.007756\n",
       "36    0.006980\n",
       "37    0.003361\n",
       "38    0.000776\n",
       "39    0.000517\n",
       "24    0.000259\n",
       "44    0.000259\n",
       "26    0.000259\n",
       "40    0.000259\n",
       "Name: Age, dtype: float64"
      ]
     },
     "execution_count": 98,
     "metadata": {},
     "output_type": "execute_result"
    }
   ],
   "source": [
    "df['Age'].value_counts(normalize=True)"
   ]
  },
  {
   "cell_type": "markdown",
   "id": "bb8cc4cf",
   "metadata": {},
   "source": [
    "#### Observation\n",
    "- Most of the employees are in age group of 25-35\n",
    "- 45% of the employees are of age 29 & 30\n",
    "- There is only 1 employee of age more than 40\n",
    "- There are 624 Male and 201 Female employees which are having the age of 30 years\n",
    "* For both the Genders the distribution is moderately Skewed"
   ]
  },
  {
   "cell_type": "markdown",
   "id": "6dfe90b7",
   "metadata": {},
   "source": [
    "## 13. Top 10 locations having higher % of Employees"
   ]
  },
  {
   "cell_type": "code",
   "execution_count": 99,
   "id": "2c34f8e8",
   "metadata": {},
   "outputs": [],
   "source": [
    "df['JobCity'] = df['JobCity'].replace(-1,np.nan)"
   ]
  },
  {
   "cell_type": "code",
   "execution_count": 100,
   "id": "e47612a8",
   "metadata": {},
   "outputs": [],
   "source": [
    "top_10 = df['JobCity'].value_counts(normalize=True).reset_index().rename(columns = {'index':'JobCity','JobCity':'Count'})"
   ]
  },
  {
   "cell_type": "code",
   "execution_count": 101,
   "id": "897e8c93",
   "metadata": {},
   "outputs": [],
   "source": [
    "top_10['Count(%)'] = (top_10['Count']*100)//1"
   ]
  },
  {
   "cell_type": "code",
   "execution_count": 102,
   "id": "be29c0f2",
   "metadata": {},
   "outputs": [
    {
     "data": {
      "text/html": [
       "<div>\n",
       "<style scoped>\n",
       "    .dataframe tbody tr th:only-of-type {\n",
       "        vertical-align: middle;\n",
       "    }\n",
       "\n",
       "    .dataframe tbody tr th {\n",
       "        vertical-align: top;\n",
       "    }\n",
       "\n",
       "    .dataframe thead th {\n",
       "        text-align: right;\n",
       "    }\n",
       "</style>\n",
       "<table border=\"1\" class=\"dataframe\">\n",
       "  <thead>\n",
       "    <tr style=\"text-align: right;\">\n",
       "      <th></th>\n",
       "      <th>JobCity</th>\n",
       "      <th>Count</th>\n",
       "      <th>Count(%)</th>\n",
       "    </tr>\n",
       "  </thead>\n",
       "  <tbody>\n",
       "    <tr>\n",
       "      <th>0</th>\n",
       "      <td>Bangalore</td>\n",
       "      <td>0.180064</td>\n",
       "      <td>18.0</td>\n",
       "    </tr>\n",
       "    <tr>\n",
       "      <th>1</th>\n",
       "      <td>Noida</td>\n",
       "      <td>0.104355</td>\n",
       "      <td>10.0</td>\n",
       "    </tr>\n",
       "    <tr>\n",
       "      <th>2</th>\n",
       "      <td>Hyderabad</td>\n",
       "      <td>0.095294</td>\n",
       "      <td>9.0</td>\n",
       "    </tr>\n",
       "    <tr>\n",
       "      <th>3</th>\n",
       "      <td>Pune</td>\n",
       "      <td>0.082432</td>\n",
       "      <td>8.0</td>\n",
       "    </tr>\n",
       "    <tr>\n",
       "      <th>4</th>\n",
       "      <td>Chennai</td>\n",
       "      <td>0.077463</td>\n",
       "      <td>7.0</td>\n",
       "    </tr>\n",
       "    <tr>\n",
       "      <th>5</th>\n",
       "      <td>Gurgaon</td>\n",
       "      <td>0.055832</td>\n",
       "      <td>5.0</td>\n",
       "    </tr>\n",
       "    <tr>\n",
       "      <th>6</th>\n",
       "      <td>New Delhi</td>\n",
       "      <td>0.054955</td>\n",
       "      <td>5.0</td>\n",
       "    </tr>\n",
       "    <tr>\n",
       "      <th>7</th>\n",
       "      <td>Mumbai</td>\n",
       "      <td>0.030400</td>\n",
       "      <td>3.0</td>\n",
       "    </tr>\n",
       "    <tr>\n",
       "      <th>8</th>\n",
       "      <td>Kolkata</td>\n",
       "      <td>0.027477</td>\n",
       "      <td>2.0</td>\n",
       "    </tr>\n",
       "    <tr>\n",
       "      <th>9</th>\n",
       "      <td>Jaipur</td>\n",
       "      <td>0.012569</td>\n",
       "      <td>1.0</td>\n",
       "    </tr>\n",
       "  </tbody>\n",
       "</table>\n",
       "</div>"
      ],
      "text/plain": [
       "     JobCity     Count  Count(%)\n",
       "0  Bangalore  0.180064      18.0\n",
       "1      Noida  0.104355      10.0\n",
       "2  Hyderabad  0.095294       9.0\n",
       "3       Pune  0.082432       8.0\n",
       "4    Chennai  0.077463       7.0\n",
       "5    Gurgaon  0.055832       5.0\n",
       "6  New Delhi  0.054955       5.0\n",
       "7     Mumbai  0.030400       3.0\n",
       "8    Kolkata  0.027477       2.0\n",
       "9     Jaipur  0.012569       1.0"
      ]
     },
     "execution_count": 102,
     "metadata": {},
     "output_type": "execute_result"
    }
   ],
   "source": [
    "top_10.head(10)"
   ]
  },
  {
   "cell_type": "code",
   "execution_count": 103,
   "id": "220b0461",
   "metadata": {},
   "outputs": [
    {
     "data": {
      "image/png": "[encoded data removed]"
     },
     "metadata": {},
     "output_type": "display_data"
    }
   ],
   "source": [
    "fig13 = px.bar(top_10.head(10), x='JobCity', y='Count(%)',color='Count(%)',labels={'Count(%)':'% of Employees'},\n",
    "            color_continuous_scale=px.colors.sequential.Hot,\n",
    "             text='Count(%)')\n",
    "            \n",
    "fig13.update_traces(texttemplate='%{text:.2s}',textposition='inside',textfont_size=12)\n",
    "fig13.update_layout(plot_bgcolor='#555555',height=450)\n",
    "fig13.update_yaxes(showgrid=False)\n",
    "fig13.show('png')"
   ]
  },
  {
   "cell_type": "markdown",
   "id": "e6ac9e7d",
   "metadata": {},
   "source": [
    "### Observation\n",
    "* More than 18% of the employees are working in Bangalore which is the highest among all other cities\n",
    "* Jaipur is the 10th highest city having 1% of employees"
   ]
  },
  {
   "cell_type": "markdown",
   "id": "e452c651",
   "metadata": {},
   "source": [
    "## 14. Top 10 Designations having higher % of Employees"
   ]
  },
  {
   "cell_type": "code",
   "execution_count": 104,
   "id": "73b6c631",
   "metadata": {},
   "outputs": [],
   "source": [
    "designation = df['Designation'].value_counts(normalize=True)[0:10].reset_index().rename(\n",
    "    columns={'index':'Designation','Designation':'Count'})"
   ]
  },
  {
   "cell_type": "code",
   "execution_count": 105,
   "id": "ee1aedcb",
   "metadata": {},
   "outputs": [
    {
     "data": {
      "text/html": [
       "<div>\n",
       "<style scoped>\n",
       "    .dataframe tbody tr th:only-of-type {\n",
       "        vertical-align: middle;\n",
       "    }\n",
       "\n",
       "    .dataframe tbody tr th {\n",
       "        vertical-align: top;\n",
       "    }\n",
       "\n",
       "    .dataframe thead th {\n",
       "        text-align: right;\n",
       "    }\n",
       "</style>\n",
       "<table border=\"1\" class=\"dataframe\">\n",
       "  <thead>\n",
       "    <tr style=\"text-align: right;\">\n",
       "      <th></th>\n",
       "      <th>Designation</th>\n",
       "      <th>Count</th>\n",
       "      <th>Count(%)</th>\n",
       "    </tr>\n",
       "  </thead>\n",
       "  <tbody>\n",
       "    <tr>\n",
       "      <th>0</th>\n",
       "      <td>software engineer</td>\n",
       "      <td>0.136246</td>\n",
       "      <td>13.0</td>\n",
       "    </tr>\n",
       "    <tr>\n",
       "      <th>1</th>\n",
       "      <td>software developer</td>\n",
       "      <td>0.065667</td>\n",
       "      <td>6.0</td>\n",
       "    </tr>\n",
       "    <tr>\n",
       "      <th>2</th>\n",
       "      <td>system engineer</td>\n",
       "      <td>0.051706</td>\n",
       "      <td>5.0</td>\n",
       "    </tr>\n",
       "    <tr>\n",
       "      <th>3</th>\n",
       "      <td>programmer analyst</td>\n",
       "      <td>0.034643</td>\n",
       "      <td>3.0</td>\n",
       "    </tr>\n",
       "    <tr>\n",
       "      <th>4</th>\n",
       "      <td>systems engineer</td>\n",
       "      <td>0.029473</td>\n",
       "      <td>2.0</td>\n",
       "    </tr>\n",
       "    <tr>\n",
       "      <th>5</th>\n",
       "      <td>java software engineer</td>\n",
       "      <td>0.028180</td>\n",
       "      <td>2.0</td>\n",
       "    </tr>\n",
       "    <tr>\n",
       "      <th>6</th>\n",
       "      <td>software test engineer</td>\n",
       "      <td>0.025595</td>\n",
       "      <td>2.0</td>\n",
       "    </tr>\n",
       "    <tr>\n",
       "      <th>7</th>\n",
       "      <td>project engineer</td>\n",
       "      <td>0.019907</td>\n",
       "      <td>1.0</td>\n",
       "    </tr>\n",
       "    <tr>\n",
       "      <th>8</th>\n",
       "      <td>technical support engineer</td>\n",
       "      <td>0.019131</td>\n",
       "      <td>1.0</td>\n",
       "    </tr>\n",
       "    <tr>\n",
       "      <th>9</th>\n",
       "      <td>senior software engineer</td>\n",
       "      <td>0.018356</td>\n",
       "      <td>1.0</td>\n",
       "    </tr>\n",
       "  </tbody>\n",
       "</table>\n",
       "</div>"
      ],
      "text/plain": [
       "                  Designation     Count  Count(%)\n",
       "0           software engineer  0.136246      13.0\n",
       "1          software developer  0.065667       6.0\n",
       "2             system engineer  0.051706       5.0\n",
       "3          programmer analyst  0.034643       3.0\n",
       "4            systems engineer  0.029473       2.0\n",
       "5      java software engineer  0.028180       2.0\n",
       "6      software test engineer  0.025595       2.0\n",
       "7            project engineer  0.019907       1.0\n",
       "8  technical support engineer  0.019131       1.0\n",
       "9    senior software engineer  0.018356       1.0"
      ]
     },
     "execution_count": 105,
     "metadata": {},
     "output_type": "execute_result"
    }
   ],
   "source": [
    "designation['Count(%)'] = designation['Count']*100//1\n",
    "designation"
   ]
  },
  {
   "cell_type": "code",
   "execution_count": 106,
   "id": "5d52890d",
   "metadata": {},
   "outputs": [
    {
     "data": {
      "image/png": "[encoded data removed]"
     },
     "metadata": {},
     "output_type": "display_data"
    }
   ],
   "source": [
    "fig14 = px.bar(designation, x='Designation', y='Count(%)',color='Count(%)',\n",
    "            labels={'Count(%)':'% of Employees'},text='Count(%)',\n",
    "            color_continuous_scale=px.colors.sequential.Sunset_r)\n",
    "      \n",
    "fig14.update_traces(texttemplate='%{text:.2s}',textposition='inside',textfont_size=12)\n",
    "fig14.update_layout(plot_bgcolor='aliceblue',height=450)\n",
    "fig14.update_yaxes(showgrid=False)\n",
    "fig14.show('png')"
   ]
  },
  {
   "cell_type": "markdown",
   "id": "bcff150c",
   "metadata": {},
   "source": [
    "### Observation\n",
    "* More than 13% of the Employees are working as a Software Engineer.\n",
    "* 6% of the Employees are working as a Software Developer.\n",
    "* Other than these designations there are less than 5% of the Employees"
   ]
  },
  {
   "cell_type": "markdown",
   "id": "46867094",
   "metadata": {},
   "source": [
    "## 15. Salary based on Age"
   ]
  },
  {
   "cell_type": "code",
   "execution_count": 107,
   "id": "b531ef7c",
   "metadata": {
    "scrolled": false
   },
   "outputs": [
    {
     "data": {
      "image/png": "[encoded data removed]"
     },
     "metadata": {},
     "output_type": "display_data"
    }
   ],
   "source": [
    "fig15 = px.scatter(df,y='Salary',x='Age',color='Age')\n",
    "fig15.update_layout(height=500, width=900,plot_bgcolor='seashell')\n",
    "fig15.update_xaxes(showgrid=False)\n",
    "fig15.update_yaxes(showgrid=False,zeroline=False)\n",
    "fig15.show('png')"
   ]
  },
  {
   "cell_type": "markdown",
   "id": "b98fc46b",
   "metadata": {},
   "source": [
    "#### Observation:\n",
    "* The employees age lies in between 24 and 44\n",
    "* The person of age 34 earns highest salary of 4M\n",
    "* There are more number of outliers for the employees in the age group between 28-24"
   ]
  },
  {
   "cell_type": "markdown",
   "id": "ae4a9809",
   "metadata": {},
   "source": [
    "## 16. Salary based on Gender"
   ]
  },
  {
   "cell_type": "code",
   "execution_count": 108,
   "id": "a8ca4bcc",
   "metadata": {},
   "outputs": [
    {
     "data": {
      "image/png": "[encoded data removed]"
     },
     "metadata": {},
     "output_type": "display_data"
    }
   ],
   "source": [
    "fig16 = px.scatter(df,x='Salary',y='Gender',color='Gender')\n",
    "fig16.update_layout(height=250, width=900,plot_bgcolor='snow')\n",
    "fig16.update_xaxes(showgrid=False,zeroline=False)\n",
    "fig16.update_yaxes(showgrid=False)\n",
    "fig16.show('png')"
   ]
  },
  {
   "cell_type": "markdown",
   "id": "1ad77e96",
   "metadata": {},
   "source": [
    "#### Observation:\n",
    "* There are more number of outliers for both male & female employees w.r.t Salary.\n",
    "* Maximum salary earned by a male employee is 4M\n",
    "* Maximum salary earned by a female employee is 3.5M"
   ]
  },
  {
   "cell_type": "markdown",
   "id": "d9f507e8",
   "metadata": {},
   "source": [
    "## 17. Salary based on Degree"
   ]
  },
  {
   "cell_type": "code",
   "execution_count": 109,
   "id": "fef71844",
   "metadata": {},
   "outputs": [
    {
     "data": {
      "image/png": "[encoded data removed]"
     },
     "metadata": {},
     "output_type": "display_data"
    }
   ],
   "source": [
    "fig17 = px.scatter(df,x='Salary',y='Degree',color='Degree')\n",
    "fig17.update_layout(height=370, width=980,plot_bgcolor='black')\n",
    "fig17.update_xaxes(showgrid=False,zeroline=False)\n",
    "fig17.update_yaxes(showgrid=False)\n",
    "fig17.show('png')"
   ]
  },
  {
   "cell_type": "markdown",
   "id": "ce3d04a0",
   "metadata": {},
   "source": [
    "#### Observation:\n",
    "* There are more employees who have done graduation in B.Tech\n",
    "* The highest salary for a employee based on graduation:\n",
    "    1. B.Tech/B.E - 4M\n",
    "    2. MCA - 4M\n",
    "    3. M.Tech/M.E - 1.86M\n",
    "    4. M.Sc. - 460K\n",
    "* There are only two employees who have done graduation in M.Sc"
   ]
  },
  {
   "cell_type": "markdown",
   "id": "38ed4847",
   "metadata": {},
   "source": [
    "## 18. % of employees who have graduated in top 5 specializations"
   ]
  },
  {
   "cell_type": "code",
   "execution_count": 110,
   "id": "4596a5f2",
   "metadata": {},
   "outputs": [
    {
     "data": {
      "text/html": [
       "<div>\n",
       "<style scoped>\n",
       "    .dataframe tbody tr th:only-of-type {\n",
       "        vertical-align: middle;\n",
       "    }\n",
       "\n",
       "    .dataframe tbody tr th {\n",
       "        vertical-align: top;\n",
       "    }\n",
       "\n",
       "    .dataframe thead th {\n",
       "        text-align: right;\n",
       "    }\n",
       "</style>\n",
       "<table border=\"1\" class=\"dataframe\">\n",
       "  <thead>\n",
       "    <tr style=\"text-align: right;\">\n",
       "      <th></th>\n",
       "      <th>Specialization</th>\n",
       "      <th>Total Employees</th>\n",
       "      <th>% of Employees</th>\n",
       "    </tr>\n",
       "  </thead>\n",
       "  <tbody>\n",
       "    <tr>\n",
       "      <th>0</th>\n",
       "      <td>electronics and communication engineering</td>\n",
       "      <td>0.222596</td>\n",
       "      <td>22.0</td>\n",
       "    </tr>\n",
       "    <tr>\n",
       "      <th>1</th>\n",
       "      <td>computer science &amp; engineering</td>\n",
       "      <td>0.185884</td>\n",
       "      <td>18.0</td>\n",
       "    </tr>\n",
       "    <tr>\n",
       "      <th>2</th>\n",
       "      <td>information technology</td>\n",
       "      <td>0.166753</td>\n",
       "      <td>16.0</td>\n",
       "    </tr>\n",
       "    <tr>\n",
       "      <th>3</th>\n",
       "      <td>computer engineering</td>\n",
       "      <td>0.152017</td>\n",
       "      <td>15.0</td>\n",
       "    </tr>\n",
       "    <tr>\n",
       "      <th>4</th>\n",
       "      <td>computer application</td>\n",
       "      <td>0.060238</td>\n",
       "      <td>6.0</td>\n",
       "    </tr>\n",
       "  </tbody>\n",
       "</table>\n",
       "</div>"
      ],
      "text/plain": [
       "                              Specialization  Total Employees  % of Employees\n",
       "0  electronics and communication engineering         0.222596            22.0\n",
       "1             computer science & engineering         0.185884            18.0\n",
       "2                     information technology         0.166753            16.0\n",
       "3                       computer engineering         0.152017            15.0\n",
       "4                       computer application         0.060238             6.0"
      ]
     },
     "execution_count": 110,
     "metadata": {},
     "output_type": "execute_result"
    }
   ],
   "source": [
    "by_specialization = df['Specialization'].value_counts(normalize=True).reset_index().rename(\n",
    "    columns={'index':'Specialization','Specialization':'Total Employees'})\n",
    "by_specialization['% of Employees'] = (by_specialization['Total Employees']*100)//1\n",
    "by_specialization.head()"
   ]
  },
  {
   "cell_type": "code",
   "execution_count": 111,
   "id": "c262870f",
   "metadata": {},
   "outputs": [
    {
     "data": {
      "image/png": "[encoded data removed]"
     },
     "metadata": {},
     "output_type": "display_data"
    }
   ],
   "source": [
    "fig18 = px.sunburst(by_specialization.head(), path=['% of Employees','Specialization'],color='% of Employees',\n",
    "                 color_continuous_scale=px.colors.sequential.Hot_r)\n",
    "fig18.show('png')"
   ]
  },
  {
   "cell_type": "markdown",
   "id": "9982fd01",
   "metadata": {},
   "source": [
    "#### Observation:\n",
    "* More than 22% of the employees have done their specialization in Electrical & Communication Engineering\n",
    "* Computer Applications is the 5th highest specialization where there are 6%  of employees who have done specialization in this field."
   ]
  },
  {
   "cell_type": "markdown",
   "id": "3b224245",
   "metadata": {},
   "source": [
    "## 19. Salary based on College Tier & GPA"
   ]
  },
  {
   "cell_type": "code",
   "execution_count": 112,
   "id": "19ebccfe",
   "metadata": {},
   "outputs": [],
   "source": [
    "college_tier = df[(df['CollegeTier'] == 1) | (df['CollegeTier'] == 2)]"
   ]
  },
  {
   "cell_type": "code",
   "execution_count": 113,
   "id": "cb7eb6ca",
   "metadata": {},
   "outputs": [
    {
     "data": {
      "image/png": "[encoded data removed]"
     },
     "metadata": {},
     "output_type": "display_data"
    }
   ],
   "source": [
    "fig19 = px.scatter(college_tier,y='Salary',x='collegeGPA',color='CollegeTier')\n",
    "fig19.update_layout(plot_bgcolor='#555555',height=600)\n",
    "fig19.update_xaxes(showgrid=False,zeroline=False)\n",
    "fig19.update_yaxes(showgrid=False,zeroline=False)\n",
    "fig19.show('png')"
   ]
  },
  {
   "cell_type": "code",
   "execution_count": 114,
   "id": "38aff21c",
   "metadata": {},
   "outputs": [
    {
     "data": {
      "text/plain": [
       "2    0.925543\n",
       "1    0.074457\n",
       "Name: CollegeTier, dtype: float64"
      ]
     },
     "execution_count": 114,
     "metadata": {},
     "output_type": "execute_result"
    }
   ],
   "source": [
    "df['CollegeTier'].value_counts(normalize=True)"
   ]
  },
  {
   "cell_type": "markdown",
   "id": "0cef80eb",
   "metadata": {},
   "source": [
    "#### Observation:\n",
    "* Around 93% of the Employees are from Tier-2 Colleges.\n",
    "* Both Tier-1 & Tier-2 Employees has a maximum Salary of 4M\n",
    "* Highest GPA of Tier-1 College Employee is 99.93 and salary is 440K\n",
    "* Highest GPA of Tier-2 College Employee is 99 and salary is 370K"
   ]
  },
  {
   "cell_type": "markdown",
   "id": "83f597fe",
   "metadata": {},
   "source": [
    "## 20. 12th Percentage Based on top boards"
   ]
  },
  {
   "cell_type": "code",
   "execution_count": 115,
   "id": "da4491b5",
   "metadata": {},
   "outputs": [
    {
     "data": {
      "text/html": [
       "<div>\n",
       "<style scoped>\n",
       "    .dataframe tbody tr th:only-of-type {\n",
       "        vertical-align: middle;\n",
       "    }\n",
       "\n",
       "    .dataframe tbody tr th {\n",
       "        vertical-align: top;\n",
       "    }\n",
       "\n",
       "    .dataframe thead th {\n",
       "        text-align: right;\n",
       "    }\n",
       "</style>\n",
       "<table border=\"1\" class=\"dataframe\">\n",
       "  <thead>\n",
       "    <tr style=\"text-align: right;\">\n",
       "      <th></th>\n",
       "      <th>12th_Board</th>\n",
       "      <th>Count</th>\n",
       "    </tr>\n",
       "  </thead>\n",
       "  <tbody>\n",
       "    <tr>\n",
       "      <th>0</th>\n",
       "      <td>cbse</td>\n",
       "      <td>0.350569</td>\n",
       "    </tr>\n",
       "    <tr>\n",
       "      <th>1</th>\n",
       "      <td>state board</td>\n",
       "      <td>0.309979</td>\n",
       "    </tr>\n",
       "  </tbody>\n",
       "</table>\n",
       "</div>"
      ],
      "text/plain": [
       "    12th_Board     Count\n",
       "0         cbse  0.350569\n",
       "1  state board  0.309979"
      ]
     },
     "execution_count": 115,
     "metadata": {},
     "output_type": "execute_result"
    }
   ],
   "source": [
    "df['12board'].value_counts(normalize=True)[0:2].reset_index().rename(columns={'index':'12th_Board','12board':'Count'})"
   ]
  },
  {
   "cell_type": "code",
   "execution_count": 116,
   "id": "84c74397",
   "metadata": {},
   "outputs": [],
   "source": [
    "top_2_boards = df[(df['12board'] == 'cbse') | (df['12board'] == 'state board')]"
   ]
  },
  {
   "cell_type": "code",
   "execution_count": 117,
   "id": "296f8ef6",
   "metadata": {},
   "outputs": [
    {
     "data": {
      "image/png": "[encoded data removed]"
     },
     "metadata": {},
     "output_type": "display_data"
    }
   ],
   "source": [
    "fig20 = px.scatter(top_2_boards,y='12percentage',x='12graduation',color='12board',color_discrete_map={\n",
    "                \"cbse\": \"white\",\n",
    "                \"state board\": \"crimson\"})\n",
    "fig20.update_layout(plot_bgcolor='black',height=600)\n",
    "fig20.update_xaxes(showgrid=False,zeroline=False)\n",
    "fig20.update_yaxes(showgrid=False,zeroline=False)\n",
    "fig20.show('png')"
   ]
  },
  {
   "cell_type": "markdown",
   "id": "cc8a5fae",
   "metadata": {},
   "source": [
    "#### Observation:\n",
    "* More than 35% of the Employees have completed their state board in CBSE\n",
    "* Around 30% of the Employees are from State board\n",
    "* Most of the employees have completed 12th in the year 2009 in State board.\n",
    "* There are more number of employees who have completed their 12th in 2005 in CBSE.\n",
    "* There is one employee who completed his graduation in before 2000."
   ]
  },
  {
   "cell_type": "markdown",
   "id": "de962396",
   "metadata": {},
   "source": [
    "## 21. Heatmap to check Correlation"
   ]
  },
  {
   "cell_type": "code",
   "execution_count": 118,
   "id": "888f4c52",
   "metadata": {
    "scrolled": false
   },
   "outputs": [
    {
     "data": {
      "image/png": "[encoded data removed]",
      "text/plain": [
       "<Figure size 1296x648 with 2 Axes>"
      ]
     },
     "metadata": {},
     "output_type": "display_data"
    }
   ],
   "source": [
    "columns = ['Salary','10percentage','12percentage','CollegeTier','collegeGPA','GraduationYear','AMCAT_Score','Age']\n",
    "data1 = df[columns]\n",
    "correlation = data1.corr()\n",
    "sns.set(rc={'figure.figsize':(18,9)})\n",
    "sns.heatmap(correlation,annot=True,cmap=\"YlGnBu\")\n",
    "plt.xticks(fontsize=12,color='k',fontweight='bold')\n",
    "plt.yticks(fontsize=12,color='k',fontweight='bold')\n",
    "plt.show()"
   ]
  },
  {
   "cell_type": "markdown",
   "id": "2da298af",
   "metadata": {},
   "source": [
    "#### Observation:\n",
    "* Correlation ranges from -1 to +1, Values closer to zero means there is no linear relationship between the two variables.\n",
    "* The values near to 1 are more positively correlated i.e, if one variable increases the other also increases.\n",
    "* The values near to -1 are more negatively correlated i.e, if one variable increases the other decreases.\n",
    "\n",
    "\n"
   ]
  },
  {
   "cell_type": "code",
   "execution_count": null,
   "id": "28a42a8c",
   "metadata": {},
   "outputs": [],
   "source": []
  }
 ],
 "metadata": {
  "kernelspec": {
   "display_name": "Python 3",
   "language": "python",
   "name": "python3"
  },
  "language_info": {
   "codemirror_mode": {
    "name": "ipython",
    "version": 3
   },
   "file_extension": ".py",
   "mimetype": "text/x-python",
   "name": "python",
   "nbconvert_exporter": "python",
   "pygments_lexer": "ipython3",
   "version": "3.8.8"
  }
 },
 "nbformat": 4,
 "nbformat_minor": 5
}
